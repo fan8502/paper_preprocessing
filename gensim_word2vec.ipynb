{
 "cells": [
  {
   "cell_type": "code",
   "execution_count": 50,
   "metadata": {},
   "outputs": [],
   "source": [
    "from gensim.models import word2vec\n",
    "import logging"
   ]
  },
  {
   "cell_type": "code",
   "execution_count": 20,
   "metadata": {},
   "outputs": [],
   "source": [
    "with open ('Chapter2_after.txt', 'r', encoding = 'UTF-8') as inFile:\n",
    "    Lines = inFile.readlines()"
   ]
  },
  {
   "cell_type": "code",
   "execution_count": 24,
   "metadata": {},
   "outputs": [],
   "source": [
    "text = ' '.join(Lines)"
   ]
  },
  {
   "cell_type": "code",
   "execution_count": 29,
   "metadata": {},
   "outputs": [],
   "source": [
    "import re\n",
    "import nltk\n",
    "# Cleaing the text\n",
    "processed_article = text.lower()\n",
    "processed_article = re.sub('[^a-zA-Z]', ' ', processed_article )\n",
    "processed_article = re.sub(r'\\s+', ' ', processed_article)\n",
    "\n",
    "# Preparing the dataset\n",
    "all_sentences = nltk.sent_tokenize(processed_article)\n",
    "\n",
    "all_words = [nltk.word_tokenize(sent) for sent in all_sentences]\n",
    "\n",
    "# Removing Stop Words\n",
    "from nltk.corpus import stopwords\n",
    "for i in range(len(all_words)):\n",
    "    all_words[i] = [w for w in all_words[i] if w not in stopwords.words('english')]"
   ]
  },
  {
   "cell_type": "code",
   "execution_count": 57,
   "metadata": {},
   "outputs": [],
   "source": [
    "with open ('all_words.txt', 'w', encoding = 'utf-8') as outFile:\n",
    "    for lid in range(len(all_words)):\n",
    "        line = all_words[lid]\n",
    "        outFile.write(str(line))"
   ]
  },
  {
   "cell_type": "markdown",
   "metadata": {},
   "source": [
    "## 上為資料處理"
   ]
  },
  {
   "cell_type": "code",
   "execution_count": 39,
   "metadata": {},
   "outputs": [
    {
     "name": "stderr",
     "output_type": "stream",
     "text": [
      "2019-09-28 17:10:21,243 : INFO : collecting all words and their counts\n",
      "2019-09-28 17:10:21,247 : INFO : PROGRESS: at sentence #0, processed 0 words, keeping 0 word types\n",
      "2019-09-28 17:10:21,251 : INFO : collected 1352 word types from a corpus of 5893 raw words and 1 sentences\n",
      "2019-09-28 17:10:21,253 : INFO : Loading a fresh vocabulary\n",
      "2019-09-28 17:10:21,259 : INFO : effective_min_count=2 retains 756 unique words (55% of original 1352, drops 596)\n",
      "2019-09-28 17:10:21,262 : INFO : effective_min_count=2 leaves 5297 word corpus (89% of original 5893, drops 596)\n",
      "2019-09-28 17:10:21,272 : INFO : deleting the raw counts dictionary of 1352 items\n",
      "2019-09-28 17:10:21,273 : INFO : sample=0.001 downsamples 69 most-common words\n",
      "2019-09-28 17:10:21,274 : INFO : downsampling leaves estimated 3998 word corpus (75.5% of prior 5297)\n",
      "2019-09-28 17:10:21,282 : INFO : estimated required memory for 756 words and 100 dimensions: 982800 bytes\n",
      "2019-09-28 17:10:21,284 : INFO : resetting layer weights\n",
      "2019-09-28 17:10:21,480 : INFO : training model with 3 workers on 756 vocabulary and 100 features, using sg=0 hs=0 sample=0.001 negative=5 window=5\n",
      "2019-09-28 17:10:21,484 : INFO : worker thread finished; awaiting finish of 2 more threads\n",
      "2019-09-28 17:10:21,485 : INFO : worker thread finished; awaiting finish of 1 more threads\n",
      "2019-09-28 17:10:21,492 : INFO : worker thread finished; awaiting finish of 0 more threads\n",
      "2019-09-28 17:10:21,493 : INFO : EPOCH - 1 : training on 5893 raw words (4015 effective words) took 0.0s, 454559 effective words/s\n",
      "2019-09-28 17:10:21,502 : INFO : worker thread finished; awaiting finish of 2 more threads\n",
      "2019-09-28 17:10:21,503 : INFO : worker thread finished; awaiting finish of 1 more threads\n",
      "2019-09-28 17:10:21,508 : INFO : worker thread finished; awaiting finish of 0 more threads\n",
      "2019-09-28 17:10:21,509 : INFO : EPOCH - 2 : training on 5893 raw words (3987 effective words) took 0.0s, 331344 effective words/s\n",
      "2019-09-28 17:10:21,522 : INFO : worker thread finished; awaiting finish of 2 more threads\n",
      "2019-09-28 17:10:21,524 : INFO : worker thread finished; awaiting finish of 1 more threads\n",
      "2019-09-28 17:10:21,531 : INFO : worker thread finished; awaiting finish of 0 more threads\n",
      "2019-09-28 17:10:21,532 : INFO : EPOCH - 3 : training on 5893 raw words (3966 effective words) took 0.0s, 284975 effective words/s\n",
      "2019-09-28 17:10:21,541 : INFO : worker thread finished; awaiting finish of 2 more threads\n",
      "2019-09-28 17:10:21,546 : INFO : worker thread finished; awaiting finish of 1 more threads\n",
      "2019-09-28 17:10:21,553 : INFO : worker thread finished; awaiting finish of 0 more threads\n",
      "2019-09-28 17:10:21,558 : INFO : EPOCH - 4 : training on 5893 raw words (3957 effective words) took 0.0s, 227848 effective words/s\n",
      "2019-09-28 17:10:21,565 : INFO : worker thread finished; awaiting finish of 2 more threads\n",
      "2019-09-28 17:10:21,569 : INFO : worker thread finished; awaiting finish of 1 more threads\n",
      "2019-09-28 17:10:21,575 : INFO : worker thread finished; awaiting finish of 0 more threads\n",
      "2019-09-28 17:10:21,577 : INFO : EPOCH - 5 : training on 5893 raw words (3982 effective words) took 0.0s, 331248 effective words/s\n",
      "2019-09-28 17:10:21,578 : INFO : training on a 29465 raw words (19907 effective words) took 0.1s, 204356 effective words/s\n",
      "2019-09-28 17:10:21,579 : WARNING : under 10 jobs per worker: consider setting a smaller `batch_words' for smoother alpha decay\n"
     ]
    }
   ],
   "source": [
    "from gensim.models import Word2Vec\n",
    "\n",
    "word2vec = Word2Vec(all_words, min_count=2)"
   ]
  },
  {
   "cell_type": "code",
   "execution_count": 40,
   "metadata": {},
   "outputs": [
    {
     "data": {
      "text/plain": [
       "756"
      ]
     },
     "execution_count": 40,
     "metadata": {},
     "output_type": "execute_result"
    }
   ],
   "source": [
    "len(word2vec.wv.vocab)"
   ]
  },
  {
   "cell_type": "code",
   "execution_count": 42,
   "metadata": {},
   "outputs": [
    {
     "name": "stderr",
     "output_type": "stream",
     "text": [
      "2019-09-28 17:11:25,601 : INFO : precomputing L2-norms of word weight vectors\n"
     ]
    },
    {
     "data": {
      "text/plain": [
       "[('supply', 0.8679189085960388),\n",
       " ('products', 0.8675777912139893),\n",
       " ('needs', 0.8638690114021301),\n",
       " ('uncertainty', 0.8608266115188599),\n",
       " ('demand', 0.856517493724823),\n",
       " ('company', 0.8535833358764648),\n",
       " ('chain', 0.8509528636932373),\n",
       " ('must', 0.8502017259597778),\n",
       " ('scope', 0.8489145636558533),\n",
       " ('variety', 0.8471599817276001)]"
      ]
     },
     "execution_count": 42,
     "metadata": {},
     "output_type": "execute_result"
    }
   ],
   "source": [
    "word2vec.wv.most_similar(positive=[\"provide\"])"
   ]
  },
  {
   "cell_type": "markdown",
   "metadata": {},
   "source": [
    "<hr>"
   ]
  },
  {
   "cell_type": "code",
   "execution_count": 2,
   "metadata": {},
   "outputs": [
    {
     "name": "stderr",
     "output_type": "stream",
     "text": [
      "2019-09-28 16:43:37,700 : INFO : collecting all words and their counts\n",
      "2019-09-28 16:43:37,704 : INFO : PROGRESS: at sentence #0, processed 0 words, keeping 0 word types\n",
      "2019-09-28 16:43:37,713 : INFO : collected 2122 word types from a corpus of 9712 raw words and 481 sentences\n",
      "2019-09-28 16:43:37,714 : INFO : Loading a fresh vocabulary\n",
      "2019-09-28 16:43:37,718 : INFO : effective_min_count=5 retains 330 unique words (15% of original 2122, drops 1792)\n",
      "2019-09-28 16:43:37,721 : INFO : effective_min_count=5 leaves 6884 word corpus (70% of original 9712, drops 2828)\n",
      "2019-09-28 16:43:37,725 : INFO : deleting the raw counts dictionary of 2122 items\n",
      "2019-09-28 16:43:37,727 : INFO : sample=0.001 downsamples 77 most-common words\n",
      "2019-09-28 16:43:37,728 : INFO : downsampling leaves estimated 4016 word corpus (58.3% of prior 6884)\n",
      "2019-09-28 16:43:37,733 : INFO : estimated required memory for 330 words and 300 dimensions: 957000 bytes\n",
      "2019-09-28 16:43:37,736 : INFO : resetting layer weights\n",
      "2019-09-28 16:43:37,836 : INFO : training model with 4 workers on 330 vocabulary and 300 features, using sg=0 hs=0 sample=0.001 negative=5 window=5\n",
      "2019-09-28 16:43:37,846 : INFO : worker thread finished; awaiting finish of 3 more threads\n",
      "2019-09-28 16:43:37,849 : INFO : worker thread finished; awaiting finish of 2 more threads\n",
      "2019-09-28 16:43:37,855 : INFO : worker thread finished; awaiting finish of 1 more threads\n",
      "2019-09-28 16:43:37,865 : INFO : worker thread finished; awaiting finish of 0 more threads\n",
      "2019-09-28 16:43:37,865 : INFO : EPOCH - 1 : training on 9712 raw words (3934 effective words) took 0.0s, 154259 effective words/s\n",
      "2019-09-28 16:43:37,879 : INFO : worker thread finished; awaiting finish of 3 more threads\n",
      "2019-09-28 16:43:37,881 : INFO : worker thread finished; awaiting finish of 2 more threads\n",
      "2019-09-28 16:43:37,885 : INFO : worker thread finished; awaiting finish of 1 more threads\n",
      "2019-09-28 16:43:37,899 : INFO : worker thread finished; awaiting finish of 0 more threads\n",
      "2019-09-28 16:43:37,900 : INFO : EPOCH - 2 : training on 9712 raw words (4017 effective words) took 0.0s, 139103 effective words/s\n",
      "2019-09-28 16:43:37,912 : INFO : worker thread finished; awaiting finish of 3 more threads\n",
      "2019-09-28 16:43:37,919 : INFO : worker thread finished; awaiting finish of 2 more threads\n",
      "2019-09-28 16:43:37,926 : INFO : worker thread finished; awaiting finish of 1 more threads\n",
      "2019-09-28 16:43:37,931 : INFO : worker thread finished; awaiting finish of 0 more threads\n",
      "2019-09-28 16:43:37,933 : INFO : EPOCH - 3 : training on 9712 raw words (4011 effective words) took 0.0s, 157247 effective words/s\n",
      "2019-09-28 16:43:37,947 : INFO : worker thread finished; awaiting finish of 3 more threads\n",
      "2019-09-28 16:43:37,949 : INFO : worker thread finished; awaiting finish of 2 more threads\n",
      "2019-09-28 16:43:37,951 : INFO : worker thread finished; awaiting finish of 1 more threads\n",
      "2019-09-28 16:43:37,966 : INFO : worker thread finished; awaiting finish of 0 more threads\n",
      "2019-09-28 16:43:37,968 : INFO : EPOCH - 4 : training on 9712 raw words (3948 effective words) took 0.0s, 162295 effective words/s\n",
      "2019-09-28 16:43:37,981 : INFO : worker thread finished; awaiting finish of 3 more threads\n",
      "2019-09-28 16:43:37,982 : INFO : worker thread finished; awaiting finish of 2 more threads\n",
      "2019-09-28 16:43:37,984 : INFO : worker thread finished; awaiting finish of 1 more threads\n",
      "2019-09-28 16:43:37,997 : INFO : worker thread finished; awaiting finish of 0 more threads\n",
      "2019-09-28 16:43:37,998 : INFO : EPOCH - 5 : training on 9712 raw words (4020 effective words) took 0.0s, 187746 effective words/s\n",
      "2019-09-28 16:43:37,999 : INFO : training on a 48560 raw words (19930 effective words) took 0.2s, 122917 effective words/s\n",
      "2019-09-28 16:43:38,001 : WARNING : under 10 jobs per worker: consider setting a smaller `batch_words' for smoother alpha decay\n",
      "2019-09-28 16:43:38,003 : INFO : saving Word2Vec object under ./SRModel, separately None\n",
      "2019-09-28 16:43:38,004 : INFO : not storing attribute vectors_norm\n",
      "2019-09-28 16:43:38,011 : INFO : not storing attribute cum_table\n",
      "2019-09-28 16:43:38,030 : INFO : saved ./SRModel\n"
     ]
    }
   ],
   "source": [
    "logging.basicConfig(format='%(asctime)s : %(levelname)s : %(message)s', level=logging.INFO)\n",
    "sentences = word2vec.LineSentence(u'./Chapter2_after.txt')\n",
    "model = word2vec.Word2Vec(sentences,size=300,window=5,min_count=5,workers=4)\n",
    "model.save('./SRModel')"
   ]
  },
  {
   "cell_type": "code",
   "execution_count": 3,
   "metadata": {},
   "outputs": [
    {
     "name": "stderr",
     "output_type": "stream",
     "text": [
      "2019-09-28 16:44:07,924 : INFO : loading Word2Vec object from SRModel\n",
      "2019-09-28 16:44:07,938 : INFO : loading wv recursively from SRModel.wv.* with mmap=None\n",
      "2019-09-28 16:44:07,939 : INFO : setting ignored attribute vectors_norm to None\n",
      "2019-09-28 16:44:07,940 : INFO : loading vocabulary recursively from SRModel.vocabulary.* with mmap=None\n",
      "2019-09-28 16:44:07,943 : INFO : loading trainables recursively from SRModel.trainables.* with mmap=None\n",
      "2019-09-28 16:44:07,945 : INFO : setting ignored attribute cum_table to None\n",
      "2019-09-28 16:44:07,947 : INFO : loaded SRModel\n"
     ]
    }
   ],
   "source": [
    "model = word2vec.Word2Vec.load(\"SRModel\")  "
   ]
  },
  {
   "cell_type": "code",
   "execution_count": 5,
   "metadata": {},
   "outputs": [
    {
     "data": {
      "text/plain": [
       "[('to', 0.9994953870773315),\n",
       " ('the', 0.9994879961013794),\n",
       " ('that', 0.9994852542877197),\n",
       " ('a', 0.9994820356369019),\n",
       " ('of', 0.9994805455207825),\n",
       " ('supply', 0.999476432800293),\n",
       " ('with', 0.9994710683822632),\n",
       " ('products', 0.9994699954986572),\n",
       " ('uncertainty', 0.9994646906852722),\n",
       " ('for', 0.9994569420814514)]"
      ]
     },
     "execution_count": 5,
     "metadata": {},
     "output_type": "execute_result"
    }
   ],
   "source": [
    "model.wv.most_similar(positive=[\"provide\"])"
   ]
  },
  {
   "cell_type": "code",
   "execution_count": 13,
   "metadata": {},
   "outputs": [],
   "source": [
    "#為了讓word2vec更準，我們先移去常見且不重要的詞，例如:你、我、他、去、在"
   ]
  },
  {
   "cell_type": "code",
   "execution_count": 14,
   "metadata": {},
   "outputs": [
    {
     "data": {
      "text/plain": [
       "330"
      ]
     },
     "execution_count": 14,
     "metadata": {},
     "output_type": "execute_result"
    }
   ],
   "source": [
    "len(model.wv.vocab)\n"
   ]
  },
  {
   "cell_type": "code",
   "execution_count": 19,
   "metadata": {},
   "outputs": [
    {
     "data": {
      "text/plain": [
       "{'this': <gensim.models.keyedvectors.Vocab at 0x11a782438>,\n",
       " 'will': <gensim.models.keyedvectors.Vocab at 0x11a782ef0>,\n",
       " 'be': <gensim.models.keyedvectors.Vocab at 0x11a782860>,\n",
       " 'able': <gensim.models.keyedvectors.Vocab at 0x11a782e10>,\n",
       " 'to': <gensim.models.keyedvectors.Vocab at 0x11a782d30>,\n",
       " '1.': <gensim.models.keyedvectors.Vocab at 0x11a7824e0>,\n",
       " 'achieving': <gensim.models.keyedvectors.Vocab at 0x11a782630>,\n",
       " 'strategic': <gensim.models.keyedvectors.Vocab at 0x11a782668>,\n",
       " 'fit': <gensim.models.keyedvectors.Vocab at 0x11a782048>,\n",
       " 'is': <gensim.models.keyedvectors.Vocab at 0x11a782160>,\n",
       " 'critical': <gensim.models.keyedvectors.Vocab at 0x11a782780>,\n",
       " 'a': <gensim.models.keyedvectors.Vocab at 0x11a782c50>,\n",
       " \"company's\": <gensim.models.keyedvectors.Vocab at 0x11a782748>,\n",
       " 'overall': <gensim.models.keyedvectors.Vocab at 0x11a782710>,\n",
       " 'how': <gensim.models.keyedvectors.Vocab at 0x11a782550>,\n",
       " 'company': <gensim.models.keyedvectors.Vocab at 0x11a782d68>,\n",
       " 'between': <gensim.models.keyedvectors.Vocab at 0x11a782b70>,\n",
       " 'its': <gensim.models.keyedvectors.Vocab at 0x11a7825c0>,\n",
       " 'supply': <gensim.models.keyedvectors.Vocab at 0x11a782470>,\n",
       " 'chain': <gensim.models.keyedvectors.Vocab at 0x11a782358>,\n",
       " 'strategy': <gensim.models.keyedvectors.Vocab at 0x11a7823c8>,\n",
       " 'and': <gensim.models.keyedvectors.Vocab at 0x11a7822e8>,\n",
       " 'competitive': <gensim.models.keyedvectors.Vocab at 0x11a782278>,\n",
       " 'strategy.': <gensim.models.keyedvectors.Vocab at 0x11a782080>,\n",
       " 'the': <gensim.models.keyedvectors.Vocab at 0x11a780940>,\n",
       " 'importance': <gensim.models.keyedvectors.Vocab at 0x11a7807b8>,\n",
       " 'of': <gensim.models.keyedvectors.Vocab at 0x11a780ac8>,\n",
       " 'expanding': <gensim.models.keyedvectors.Vocab at 0x11a780c50>,\n",
       " 'scope': <gensim.models.keyedvectors.Vocab at 0x11a780a90>,\n",
       " 'across': <gensim.models.keyedvectors.Vocab at 0x11a780748>,\n",
       " 'chain.': <gensim.models.keyedvectors.Vocab at 0x11a780e80>,\n",
       " 'major': <gensim.models.keyedvectors.Vocab at 0x11a780c88>,\n",
       " 'challenges': <gensim.models.keyedvectors.Vocab at 0x11a780b00>,\n",
       " 'that': <gensim.models.keyedvectors.Vocab at 0x11a780eb8>,\n",
       " 'must': <gensim.models.keyedvectors.Vocab at 0x11a780fd0>,\n",
       " 'In': <gensim.models.keyedvectors.Vocab at 0x11a780860>,\n",
       " 'we': <gensim.models.keyedvectors.Vocab at 0x11a780d68>,\n",
       " 'what': <gensim.models.keyedvectors.Vocab at 0x11a780f98>,\n",
       " 'operation': <gensim.models.keyedvectors.Vocab at 0x11a780c18>,\n",
       " 'define': <gensim.models.keyedvectors.Vocab at 0x11a780668>,\n",
       " 'performance.': <gensim.models.keyedvectors.Vocab at 0x11a780320>,\n",
       " 'We': <gensim.models.keyedvectors.Vocab at 0x11a7806d8>,\n",
       " 'also': <gensim.models.keyedvectors.Vocab at 0x11a780390>,\n",
       " 'from': <gensim.models.keyedvectors.Vocab at 0x11a780e10>,\n",
       " 'one': <gensim.models.keyedvectors.Vocab at 0x11a780be0>,\n",
       " 'within': <gensim.models.keyedvectors.Vocab at 0x11a780630>,\n",
       " 'all': <gensim.models.keyedvectors.Vocab at 0x11a780710>,\n",
       " 'stages': <gensim.models.keyedvectors.Vocab at 0x11a780da0>,\n",
       " 'A': <gensim.models.keyedvectors.Vocab at 0x11a780cc0>,\n",
       " 'customer': <gensim.models.keyedvectors.Vocab at 0x11a780b70>,\n",
       " 'needs': <gensim.models.keyedvectors.Vocab at 0x11a7802e8>,\n",
       " 'it': <gensim.models.keyedvectors.Vocab at 0x11a7805c0>,\n",
       " 'satisfy': <gensim.models.keyedvectors.Vocab at 0x11a7804e0>,\n",
       " 'through': <gensim.models.keyedvectors.Vocab at 0x11a780898>,\n",
       " 'products': <gensim.models.keyedvectors.Vocab at 0x11a780588>,\n",
       " 'For': <gensim.models.keyedvectors.Vocab at 0x11a7800b8>,\n",
       " 'example,': <gensim.models.keyedvectors.Vocab at 0x11a780198>,\n",
       " 'Wal-Mart': <gensim.models.keyedvectors.Vocab at 0x11a780438>,\n",
       " 'provide': <gensim.models.keyedvectors.Vocab at 0x11a7802b0>,\n",
       " 'high': <gensim.models.keyedvectors.Vocab at 0x11a780208>,\n",
       " 'availability': <gensim.models.keyedvectors.Vocab at 0x11a7801d0>,\n",
       " 'variety': <gensim.models.keyedvectors.Vocab at 0x11a77e320>,\n",
       " 'quality': <gensim.models.keyedvectors.Vocab at 0x11a77eb38>,\n",
       " 'at': <gensim.models.keyedvectors.Vocab at 0x11a77ea90>,\n",
       " 'low': <gensim.models.keyedvectors.Vocab at 0x11a77e9b0>,\n",
       " 'are': <gensim.models.keyedvectors.Vocab at 0x11a77ea58>,\n",
       " 'can': <gensim.models.keyedvectors.Vocab at 0x11a77e860>,\n",
       " 'What': <gensim.models.keyedvectors.Vocab at 0x11a77e4a8>,\n",
       " 'price': <gensim.models.keyedvectors.Vocab at 0x11a77e828>,\n",
       " 'product': <gensim.models.keyedvectors.Vocab at 0x11a77e5f8>,\n",
       " 'McMaster-Carr': <gensim.models.keyedvectors.Vocab at 0x11a77e8d0>,\n",
       " 'sells': <gensim.models.keyedvectors.Vocab at 0x11a77e358>,\n",
       " 'operations': <gensim.models.keyedvectors.Vocab at 0x11a77e518>,\n",
       " 'products.': <gensim.models.keyedvectors.Vocab at 0x11a77e6d8>,\n",
       " 'It': <gensim.models.keyedvectors.Vocab at 0x11a77e898>,\n",
       " 'more': <gensim.models.keyedvectors.Vocab at 0x11a77e630>,\n",
       " 'than': <gensim.models.keyedvectors.Vocab at 0x11a77e908>,\n",
       " 'both': <gensim.models.keyedvectors.Vocab at 0x11a77e940>,\n",
       " 'Its': <gensim.models.keyedvectors.Vocab at 0x11a77e668>,\n",
       " 'built': <gensim.models.keyedvectors.Vocab at 0x11a77eef0>,\n",
       " 'with': <gensim.models.keyedvectors.Vocab at 0x11a77e390>,\n",
       " 'responsiveness.': <gensim.models.keyedvectors.Vocab at 0x11a77e2e8>,\n",
       " 'With': <gensim.models.keyedvectors.Vocab at 0x11a77ec88>,\n",
       " 'focus': <gensim.models.keyedvectors.Vocab at 0x11a77e400>,\n",
       " 'on': <gensim.models.keyedvectors.Vocab at 0x11a77e4e0>,\n",
       " 'does': <gensim.models.keyedvectors.Vocab at 0x11a77e0f0>,\n",
       " 'not': <gensim.models.keyedvectors.Vocab at 0x11a77efd0>,\n",
       " 'based': <gensim.models.keyedvectors.Vocab at 0x11a77ef28>,\n",
       " 'different': <gensim.models.keyedvectors.Vocab at 0x11a77eeb8>,\n",
       " 'for': <gensim.models.keyedvectors.Vocab at 0x11a77eda0>,\n",
       " 'which': <gensim.models.keyedvectors.Vocab at 0x11a77ecf8>,\n",
       " 'has': <gensim.models.keyedvectors.Vocab at 0x11a77ec18>,\n",
       " 'available': <gensim.models.keyedvectors.Vocab at 0x11a77eb00>,\n",
       " 'margins': <gensim.models.keyedvectors.Vocab at 0x11a77e550>,\n",
       " 'lower': <gensim.models.keyedvectors.Vocab at 0x11a77e198>,\n",
       " 'however,': <gensim.models.keyedvectors.Vocab at 0x11a77e0b8>,\n",
       " 'have': <gensim.models.keyedvectors.Vocab at 0x11a77d940>,\n",
       " 'their': <gensim.models.keyedvectors.Vocab at 0x11a77de10>,\n",
       " 'do': <gensim.models.keyedvectors.Vocab at 0x11a77d780>,\n",
       " 'any': <gensim.models.keyedvectors.Vocab at 0x11a77d8d0>,\n",
       " 'opportunity': <gensim.models.keyedvectors.Vocab at 0x11a77d518>,\n",
       " 'At': <gensim.models.keyedvectors.Vocab at 0x11a77dda0>,\n",
       " 'in': <gensim.models.keyedvectors.Vocab at 0x11a77d470>,\n",
       " 'contrast,': <gensim.models.keyedvectors.Vocab at 0x11a77d2b0>,\n",
       " 'by': <gensim.models.keyedvectors.Vocab at 0x11a77d588>,\n",
       " 'The': <gensim.models.keyedvectors.Vocab at 0x11a77dcc0>,\n",
       " 'store': <gensim.models.keyedvectors.Vocab at 0x11a77dfd0>,\n",
       " 'less': <gensim.models.keyedvectors.Vocab at 0x11a77db00>,\n",
       " 'each': <gensim.models.keyedvectors.Vocab at 0x11a77d9b0>,\n",
       " 'case,': <gensim.models.keyedvectors.Vocab at 0x11a77d828>,\n",
       " 'delivery': <gensim.models.keyedvectors.Vocab at 0x11a77da90>,\n",
       " 'time,': <gensim.models.keyedvectors.Vocab at 0x11a77dc18>,\n",
       " 'greater': <gensim.models.keyedvectors.Vocab at 0x11a77d6d8>,\n",
       " 'response': <gensim.models.keyedvectors.Vocab at 0x11a77df98>,\n",
       " '.': <gensim.models.keyedvectors.Vocab at 0x11a77deb8>,\n",
       " 'Product': <gensim.models.keyedvectors.Vocab at 0x11a77ddd8>,\n",
       " 'customer,': <gensim.models.keyedvectors.Vocab at 0x11a77dcf8>,\n",
       " 'cost.': <gensim.models.keyedvectors.Vocab at 0x11a77d9e8>,\n",
       " 'great': <gensim.models.keyedvectors.Vocab at 0x11a77df28>,\n",
       " 'most': <gensim.models.keyedvectors.Vocab at 0x11a77dd68>,\n",
       " 'time': <gensim.models.keyedvectors.Vocab at 0x11a77dbe0>,\n",
       " 'help': <gensim.models.keyedvectors.Vocab at 0x11a77d7f0>,\n",
       " 'or': <gensim.models.keyedvectors.Vocab at 0x11a77d320>,\n",
       " 'segments': <gensim.models.keyedvectors.Vocab at 0x11a77d240>,\n",
       " 'these': <gensim.models.keyedvectors.Vocab at 0x11a77d438>,\n",
       " 'To': <gensim.models.keyedvectors.Vocab at 0x11a77d5f8>,\n",
       " 'value': <gensim.models.keyedvectors.Vocab at 0x11a77d1d0>,\n",
       " 'as': <gensim.models.keyedvectors.Vocab at 0x11a77d358>,\n",
       " 'Figure': <gensim.models.keyedvectors.Vocab at 0x11a77d2e8>,\n",
       " 'new': <gensim.models.keyedvectors.Vocab at 0x11a77d0f0>,\n",
       " 'product.': <gensim.models.keyedvectors.Vocab at 0x11a77d048>,\n",
       " 'sales': <gensim.models.keyedvectors.Vocab at 0x11a77bbe0>,\n",
       " 'demand': <gensim.models.keyedvectors.Vocab at 0x11a77b9e8>,\n",
       " 'either': <gensim.models.keyedvectors.Vocab at 0x11a77bc88>,\n",
       " 'These': <gensim.models.keyedvectors.Vocab at 0x11a77be80>,\n",
       " 'processes': <gensim.models.keyedvectors.Vocab at 0x11a77b978>,\n",
       " 'functions': <gensim.models.keyedvectors.Vocab at 0x11a77bb70>,\n",
       " 'information': <gensim.models.keyedvectors.Vocab at 0x11a77b898>,\n",
       " 'support': <gensim.models.keyedvectors.Vocab at 0x11a77b2e8>,\n",
       " 'own': <gensim.models.keyedvectors.Vocab at 0x11a77bdd8>,\n",
       " 'refers': <gensim.models.keyedvectors.Vocab at 0x11a77b908>,\n",
       " 'try': <gensim.models.keyedvectors.Vocab at 0x11a77b860>,\n",
       " 'particularly': <gensim.models.keyedvectors.Vocab at 0x11a77b7f0>,\n",
       " 'well.': <gensim.models.keyedvectors.Vocab at 0x11a77b208>,\n",
       " 'made': <gensim.models.keyedvectors.Vocab at 0x11a77beb8>,\n",
       " 'transportation': <gensim.models.keyedvectors.Vocab at 0x11a77b748>,\n",
       " 'distribution': <gensim.models.keyedvectors.Vocab at 0x11a77b710>,\n",
       " 'along': <gensim.models.keyedvectors.Vocab at 0x11a77b9b0>,\n",
       " 'service': <gensim.models.keyedvectors.Vocab at 0x11a77be48>,\n",
       " 'Supply': <gensim.models.keyedvectors.Vocab at 0x11a77bda0>,\n",
       " 'should': <gensim.models.keyedvectors.Vocab at 0x11a77bc18>,\n",
       " 'many': <gensim.models.keyedvectors.Vocab at 0x11a77bac8>,\n",
       " 'selling': <gensim.models.keyedvectors.Vocab at 0x11a77b518>,\n",
       " 'PCs': <gensim.models.keyedvectors.Vocab at 0x11a77b940>,\n",
       " 'use': <gensim.models.keyedvectors.Vocab at 0x11a77b3c8>,\n",
       " 'manufacturers': <gensim.models.keyedvectors.Vocab at 0x11a77b8d0>,\n",
       " 'chains': <gensim.models.keyedvectors.Vocab at 0x11a77b4e0>,\n",
       " 'part': <gensim.models.keyedvectors.Vocab at 0x11a77b4a8>,\n",
       " 'design': <gensim.models.keyedvectors.Vocab at 0x11a77b6d8>,\n",
       " 'some': <gensim.models.keyedvectors.Vocab at 0x11a77b128>,\n",
       " 'using': <gensim.models.keyedvectors.Vocab at 0x11a77b7b8>,\n",
       " 'other': <gensim.models.keyedvectors.Vocab at 0x11a77b390>,\n",
       " 'production': <gensim.models.keyedvectors.Vocab at 0x11a77b438>,\n",
       " 'firm': <gensim.models.keyedvectors.Vocab at 0x11a77b080>,\n",
       " 'functional': <gensim.models.keyedvectors.Vocab at 0x11a77b358>,\n",
       " 'strategies': <gensim.models.keyedvectors.Vocab at 0x11a77b1d0>,\n",
       " 'Seven-Eleven': <gensim.models.keyedvectors.Vocab at 0x11a77b0f0>,\n",
       " 'success': <gensim.models.keyedvectors.Vocab at 0x11a779ef0>,\n",
       " 'stores': <gensim.models.keyedvectors.Vocab at 0x11a7799b0>,\n",
       " 'wide': <gensim.models.keyedvectors.Vocab at 0x11a779cc0>,\n",
       " 'range': <gensim.models.keyedvectors.Vocab at 0x11a7799e8>,\n",
       " 'such': <gensim.models.keyedvectors.Vocab at 0x11a779c50>,\n",
       " 'customers': <gensim.models.keyedvectors.Vocab at 0x11a779be0>,\n",
       " 'having': <gensim.models.keyedvectors.Vocab at 0x11a779e80>,\n",
       " 'being': <gensim.models.keyedvectors.Vocab at 0x11a779860>,\n",
       " 'very': <gensim.models.keyedvectors.Vocab at 0x11a779390>,\n",
       " 'an': <gensim.models.keyedvectors.Vocab at 0x11a779ba8>,\n",
       " 'result': <gensim.models.keyedvectors.Vocab at 0x11a779b38>,\n",
       " 'increase': <gensim.models.keyedvectors.Vocab at 0x11a779518>,\n",
       " 'demand,': <gensim.models.keyedvectors.Vocab at 0x11a779438>,\n",
       " 'increased': <gensim.models.keyedvectors.Vocab at 0x11a7791d0>,\n",
       " 'responsiveness': <gensim.models.keyedvectors.Vocab at 0x11a779160>,\n",
       " 'Given': <gensim.models.keyedvectors.Vocab at 0x11a7797f0>,\n",
       " 'Strategic': <gensim.models.keyedvectors.Vocab at 0x11a779978>,\n",
       " 'requires': <gensim.models.keyedvectors.Vocab at 0x11a7794e0>,\n",
       " 'aligned': <gensim.models.keyedvectors.Vocab at 0x11a779d68>,\n",
       " 'capabilities': <gensim.models.keyedvectors.Vocab at 0x11a779d30>,\n",
       " 'achieve': <gensim.models.keyedvectors.Vocab at 0x11a779ac8>,\n",
       " 'fit,': <gensim.models.keyedvectors.Vocab at 0x11a779828>,\n",
       " 'together': <gensim.models.keyedvectors.Vocab at 0x11a779908>,\n",
       " 'stage': <gensim.models.keyedvectors.Vocab at 0x11a779400>,\n",
       " 'may': <gensim.models.keyedvectors.Vocab at 0x11a779710>,\n",
       " 'because': <gensim.models.keyedvectors.Vocab at 0x11a7795c0>,\n",
       " 'desired': <gensim.models.keyedvectors.Vocab at 0x11a779278>,\n",
       " 'fit.': <gensim.models.keyedvectors.Vocab at 0x11a779080>,\n",
       " 'ability': <gensim.models.keyedvectors.Vocab at 0x11a779208>,\n",
       " 'large': <gensim.models.keyedvectors.Vocab at 0x11a779198>,\n",
       " 'lowest': <gensim.models.keyedvectors.Vocab at 0x11a7790f0>,\n",
       " 'cost': <gensim.models.keyedvectors.Vocab at 0x11a777d30>,\n",
       " 'likely': <gensim.models.keyedvectors.Vocab at 0x11a777828>,\n",
       " 'orders': <gensim.models.keyedvectors.Vocab at 0x11a777588>,\n",
       " 'but': <gensim.models.keyedvectors.Vocab at 0x11a777128>,\n",
       " 'This': <gensim.models.keyedvectors.Vocab at 0x11a777470>,\n",
       " 'goal': <gensim.models.keyedvectors.Vocab at 0x11a777b70>,\n",
       " 'consider': <gensim.models.keyedvectors.Vocab at 0x11a777fd0>,\n",
       " 'retailer': <gensim.models.keyedvectors.Vocab at 0x11a7779e8>,\n",
       " 'level': <gensim.models.keyedvectors.Vocab at 0x11a777a90>,\n",
       " 'while': <gensim.models.keyedvectors.Vocab at 0x11a777710>,\n",
       " 'levels': <gensim.models.keyedvectors.Vocab at 0x11a777c88>,\n",
       " 'inventory': <gensim.models.keyedvectors.Vocab at 0x11a7777f0>,\n",
       " 'suppliers': <gensim.models.keyedvectors.Vocab at 0x11a777b00>,\n",
       " 'Dell': <gensim.models.keyedvectors.Vocab at 0x11a777860>,\n",
       " 'was': <gensim.models.keyedvectors.Vocab at 0x11a777a20>,\n",
       " 'designed': <gensim.models.keyedvectors.Vocab at 0x11a777978>,\n",
       " 'responsive.': <gensim.models.keyedvectors.Vocab at 0x11a7774a8>,\n",
       " 'were': <gensim.models.keyedvectors.Vocab at 0x11a7773c8>,\n",
       " 'flexible': <gensim.models.keyedvectors.Vocab at 0x11a777ba8>,\n",
       " 'handle': <gensim.models.keyedvectors.Vocab at 0x11a7778d0>,\n",
       " 'efficiency': <gensim.models.keyedvectors.Vocab at 0x11a777358>,\n",
       " 'same': <gensim.models.keyedvectors.Vocab at 0x11a7775c0>,\n",
       " 'would': <gensim.models.keyedvectors.Vocab at 0x11a777518>,\n",
       " 'been': <gensim.models.keyedvectors.Vocab at 0x11a7772b0>,\n",
       " 'appropriate': <gensim.models.keyedvectors.Vocab at 0x11a777240>,\n",
       " 'common': <gensim.models.keyedvectors.Vocab at 0x11a777048>,\n",
       " 'well': <gensim.models.keyedvectors.Vocab at 0x11a773f98>,\n",
       " \"chain's\": <gensim.models.keyedvectors.Vocab at 0x11a773eb8>,\n",
       " 'customized': <gensim.models.keyedvectors.Vocab at 0x11a773e80>,\n",
       " 'carry': <gensim.models.keyedvectors.Vocab at 0x11a773860>,\n",
       " 'produced': <gensim.models.keyedvectors.Vocab at 0x11a773ac8>,\n",
       " 'highly': <gensim.models.keyedvectors.Vocab at 0x11a773f60>,\n",
       " 'allowed': <gensim.models.keyedvectors.Vocab at 0x11a773da0>,\n",
       " 'limited': <gensim.models.keyedvectors.Vocab at 0x11a7735f8>,\n",
       " 'responsive': <gensim.models.keyedvectors.Vocab at 0x11a773ba8>,\n",
       " 'align': <gensim.models.keyedvectors.Vocab at 0x11a773e10>,\n",
       " 'when': <gensim.models.keyedvectors.Vocab at 0x11a773518>,\n",
       " 'want': <gensim.models.keyedvectors.Vocab at 0x11a7737f0>,\n",
       " 'given': <gensim.models.keyedvectors.Vocab at 0x11a773400>,\n",
       " 'if': <gensim.models.keyedvectors.Vocab at 0x11a773780>,\n",
       " 'maintain': <gensim.models.keyedvectors.Vocab at 0x11a773710>,\n",
       " 'order': <gensim.models.keyedvectors.Vocab at 0x11a773668>,\n",
       " 'low-cost': <gensim.models.keyedvectors.Vocab at 0x11a7734a8>,\n",
       " 'How': <gensim.models.keyedvectors.Vocab at 0x11a773208>,\n",
       " 'need': <gensim.models.keyedvectors.Vocab at 0x11a773390>,\n",
       " 'ensure': <gensim.models.keyedvectors.Vocab at 0x11a773048>,\n",
       " 'targeted': <gensim.models.keyedvectors.Vocab at 0x11a773630>,\n",
       " 'Chain': <gensim.models.keyedvectors.Vocab at 0x11a7735c0>,\n",
       " 'understand': <gensim.models.keyedvectors.Vocab at 0x11a7731d0>,\n",
       " 'segment': <gensim.models.keyedvectors.Vocab at 0x11a7730f0>,\n",
       " 'uncertainty': <gensim.models.keyedvectors.Vocab at 0x11a773128>,\n",
       " 'identify': <gensim.models.keyedvectors.Vocab at 0x11a773240>,\n",
       " 'they': <gensim.models.keyedvectors.Vocab at 0x11a774d68>,\n",
       " 'important': <gensim.models.keyedvectors.Vocab at 0x11a774e10>,\n",
       " 'customer.': <gensim.models.keyedvectors.Vocab at 0x11a774828>,\n",
       " 'even': <gensim.models.keyedvectors.Vocab at 0x11a774f28>,\n",
       " 'case': <gensim.models.keyedvectors.Vocab at 0x11a774860>,\n",
       " 'several': <gensim.models.keyedvectors.Vocab at 0x11a774cf8>,\n",
       " '?The': <gensim.models.keyedvectors.Vocab at 0x11a774ac8>,\n",
       " 'An': <gensim.models.keyedvectors.Vocab at 0x11a774c50>,\n",
       " 'emergency': <gensim.models.keyedvectors.Vocab at 0x11a774898>,\n",
       " 'lead': <gensim.models.keyedvectors.Vocab at 0x11a774710>,\n",
       " 'much': <gensim.models.keyedvectors.Vocab at 0x11a774940>,\n",
       " 'tend': <gensim.models.keyedvectors.Vocab at 0x11a774b38>,\n",
       " 'key': <gensim.models.keyedvectors.Vocab at 0x11a774e80>,\n",
       " 'Implied': <gensim.models.keyedvectors.Vocab at 0x11a774c18>,\n",
       " 'Demand': <gensim.models.keyedvectors.Vocab at 0x11a774630>,\n",
       " 'implied': <gensim.models.keyedvectors.Vocab at 0x11a7747b8>,\n",
       " 'uncertainty,': <gensim.models.keyedvectors.Vocab at 0x11a7746a0>,\n",
       " 'uncertainty.': <gensim.models.keyedvectors.Vocab at 0x11a774668>,\n",
       " 'resulting': <gensim.models.keyedvectors.Vocab at 0x11a774198>,\n",
       " 'only': <gensim.models.keyedvectors.Vocab at 0x11a774748>,\n",
       " 'face': <gensim.models.keyedvectors.Vocab at 0x11a774550>,\n",
       " 'higher': <gensim.models.keyedvectors.Vocab at 0x11a774358>,\n",
       " 'over': <gensim.models.keyedvectors.Vocab at 0x11a774438>,\n",
       " 'impact': <gensim.models.keyedvectors.Vocab at 0x11a7744a8>,\n",
       " 'As': <gensim.models.keyedvectors.Vocab at 0x11a774400>,\n",
       " 'increases': <gensim.models.keyedvectors.Vocab at 0x11a7743c8>,\n",
       " 'Table': <gensim.models.keyedvectors.Vocab at 0x11a7742b0>,\n",
       " 'Uncertainty': <gensim.models.keyedvectors.Vocab at 0x11a774240>,\n",
       " 'required': <gensim.models.keyedvectors.Vocab at 0x11a7741d0>,\n",
       " 'Increase': <gensim.models.keyedvectors.Vocab at 0x11a772e48>,\n",
       " 'becomes': <gensim.models.keyedvectors.Vocab at 0x11a7729e8>,\n",
       " 'now': <gensim.models.keyedvectors.Vocab at 0x11a772a90>,\n",
       " 'uncertain': <gensim.models.keyedvectors.Vocab at 0x11a772f28>,\n",
       " 'stockout': <gensim.models.keyedvectors.Vocab at 0x11a772e80>,\n",
       " 'forced': <gensim.models.keyedvectors.Vocab at 0x11a772d68>,\n",
       " 'often': <gensim.models.keyedvectors.Vocab at 0x11a772908>,\n",
       " 'characteristics': <gensim.models.keyedvectors.Vocab at 0x11a772eb8>,\n",
       " 'result,': <gensim.models.keyedvectors.Vocab at 0x11a7726d8>,\n",
       " 'thus': <gensim.models.keyedvectors.Vocab at 0x11a772cc0>,\n",
       " 'example': <gensim.models.keyedvectors.Vocab at 0x11a772be0>,\n",
       " 'companies': <gensim.models.keyedvectors.Vocab at 0x11a772b38>,\n",
       " 'technology': <gensim.models.keyedvectors.Vocab at 0x11a772b00>,\n",
       " 'capacity': <gensim.models.keyedvectors.Vocab at 0x11a772a58>,\n",
       " 'faced': <gensim.models.keyedvectors.Vocab at 0x11a772940>,\n",
       " 'significant': <gensim.models.keyedvectors.Vocab at 0x11a772860>,\n",
       " 'Key': <gensim.models.keyedvectors.Vocab at 0x11a7725f8>,\n",
       " 'Point': <gensim.models.keyedvectors.Vocab at 0x11a772550>,\n",
       " 'step': <gensim.models.keyedvectors.Vocab at 0x11a772198>,\n",
       " 'best': <gensim.models.keyedvectors.Vocab at 0x11a772390>,\n",
       " 'efficiency.': <gensim.models.keyedvectors.Vocab at 0x11a7720f0>,\n",
       " 'costs.': <gensim.models.keyedvectors.Vocab at 0x11a76b240>,\n",
       " 'every': <gensim.models.keyedvectors.Vocab at 0x11a76b048>,\n",
       " 'costs': <gensim.models.keyedvectors.Vocab at 0x11a76bfd0>,\n",
       " 'efficient': <gensim.models.keyedvectors.Vocab at 0x11a76bac8>,\n",
       " 'frontier': <gensim.models.keyedvectors.Vocab at 0x11a76b6a0>,\n",
       " 'performance': <gensim.models.keyedvectors.Vocab at 0x11a76bcc0>,\n",
       " 'efficient.': <gensim.models.keyedvectors.Vocab at 0x11a76bf98>,\n",
       " 'firms': <gensim.models.keyedvectors.Vocab at 0x11a76bc50>,\n",
       " 'changing': <gensim.models.keyedvectors.Vocab at 0x11a76bef0>,\n",
       " 'those': <gensim.models.keyedvectors.Vocab at 0x11a76bda0>,\n",
       " 'items': <gensim.models.keyedvectors.Vocab at 0x11a76b908>,\n",
       " 'chain,': <gensim.models.keyedvectors.Vocab at 0x11a76b208>,\n",
       " 'manufacturer': <gensim.models.keyedvectors.Vocab at 0x11a76b518>,\n",
       " 'consistent': <gensim.models.keyedvectors.Vocab at 0x11a76b4e0>,\n",
       " 'who': <gensim.models.keyedvectors.Vocab at 0x11a76b320>,\n",
       " 'IKEA': <gensim.models.keyedvectors.Vocab at 0x10b2e9940>,\n",
       " 'furniture': <gensim.models.keyedvectors.Vocab at 0x10b2e9cf8>,\n",
       " 'decrease': <gensim.models.keyedvectors.Vocab at 0x10b2e9390>,\n",
       " 'become': <gensim.models.keyedvectors.Vocab at 0x10b2e9c50>,\n",
       " 'Supplier': <gensim.models.keyedvectors.Vocab at 0x10b2e97f0>,\n",
       " 'absorbs': <gensim.models.keyedvectors.Vocab at 0x10b2e9d30>,\n",
       " 'two': <gensim.models.keyedvectors.Vocab at 0x10b2e9780>,\n",
       " 'tailored': <gensim.models.keyedvectors.Vocab at 0x10b2e9828>,\n",
       " 'had': <gensim.models.keyedvectors.Vocab at 0x10b2e9ac8>,\n",
       " 'life': <gensim.models.keyedvectors.Vocab at 0x10b2e9898>,\n",
       " 'surplus.': <gensim.models.keyedvectors.Vocab at 0x10b2e9dd8>,\n",
       " 'without': <gensim.models.keyedvectors.Vocab at 0x10b2e9b70>,\n",
       " 'inventories': <gensim.models.keyedvectors.Vocab at 0x112bfd470>,\n",
       " 'intercompany': <gensim.models.keyedvectors.Vocab at 0x11a79e198>,\n",
       " 'opportunities': <gensim.models.keyedvectors.Vocab at 0x11a79e208>}"
      ]
     },
     "execution_count": 19,
     "metadata": {},
     "output_type": "execute_result"
    }
   ],
   "source": [
    "model.wv.vocab"
   ]
  },
  {
   "cell_type": "code",
   "execution_count": 16,
   "metadata": {},
   "outputs": [],
   "source": [
    "count = {}\n",
    "for w in open('Chapter2_after.txt').read().split():\n",
    "    if w in count:\n",
    "        count[w] += 1\n",
    "    else:\n",
    "        count[w] = 1"
   ]
  }
 ],
 "metadata": {
  "kernelspec": {
   "display_name": "Python 3",
   "language": "python",
   "name": "python3"
  },
  "language_info": {
   "codemirror_mode": {
    "name": "ipython",
    "version": 3
   },
   "file_extension": ".py",
   "mimetype": "text/x-python",
   "name": "python",
   "nbconvert_exporter": "python",
   "pygments_lexer": "ipython3",
   "version": "3.7.0b2"
  }
 },
 "nbformat": 4,
 "nbformat_minor": 2
}
