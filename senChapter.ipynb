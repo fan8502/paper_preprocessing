{
 "cells": [
  {
   "cell_type": "code",
   "execution_count": 27,
   "metadata": {},
   "outputs": [],
   "source": [
    "import re # for regular expression\n",
    "import sys\n",
    "import nltk"
   ]
  },
  {
   "cell_type": "code",
   "execution_count": 28,
   "metadata": {},
   "outputs": [],
   "source": [
    "with open ('Chapter1.txt', 'r', encoding = 'UTF-8') as inFile:\n",
    "    Lines = inFile.readlines()"
   ]
  },
  {
   "cell_type": "code",
   "execution_count": 29,
   "metadata": {},
   "outputs": [],
   "source": [
    "Symbols = ['\f",
    "', '\u0007', '\b', '\u0005', '\u0004', '\u0003', '\u0002', '•', '○', '●', '◎', '↑', '↓', '←', '→', '->', '<-', '`']\n",
    "Del = ['FIGURE','Chapter 1']\n",
    "for lid in range(len(Lines)):\n",
    "    Lines[lid] = Lines[lid].replace('\\n', '').strip()\n",
    "    for s in Symbols:\n",
    "        Lines[lid] = Lines[lid].replace(s, '').strip()\n",
    "    for d in Del:\n",
    "        if d in Lines[lid]:\n",
    "            Lines[lid]='.'"
   ]
  },
  {
   "cell_type": "code",
   "execution_count": 30,
   "metadata": {},
   "outputs": [],
   "source": [
    "senTokenizer = nltk.data.load('tokenizers/punkt/english.pickle')\n",
    "SentenceList = []\n",
    "all =' '.join(str(d) for d in Lines)\n",
    "seg=nltk.sent_tokenize(all)"
   ]
  },
  {
   "cell_type": "code",
   "execution_count": 31,
   "metadata": {},
   "outputs": [
    {
     "name": "stdout",
     "output_type": "stream",
     "text": [
      "2.\n",
      "3.\n",
      "4.\n",
      "1  2  .\n",
      ".\n",
      "3  4  .\n",
      "1.\n",
      "2.\n",
      "3.\n",
      "7  8  .\n",
      "1.\n",
      "2.\n",
      "Process Cycles  .\n",
      "9  10  .\n",
      "11  12  .\n",
      "of customer demand.\n",
      "13  14  .\n",
      "2.\n",
      "3.\n",
      "4.\n",
      "5.\n",
      "2.\n",
      "3.\n",
      "4.\n",
      "5.\n",
      "2.\n",
      "3.\n",
      "4.\n",
      "5.\n",
      "6.\n",
      "7.\n",
      "8.\n",
      "2.\n",
      "3.\n",
      "4.\n",
      "5.\n",
      "6.\n",
      "It uses the U.S.\n",
      "2.\n",
      "3.\n",
      "4.\n",
      ".\n",
      "17  5.\n",
      "6.\n",
      "2.\n",
      "3.\n",
      "4.\n",
      "2.\n",
      "3.\n",
      "4.\n",
      "5.\n",
      "6.\n"
     ]
    }
   ],
   "source": [
    "for sid in range(len(seg)):\n",
    "    if len(seg[sid])<=20:\n",
    "        print(seg[sid])\n",
    "        seg[sid]=''\n",
    "while '' in seg:\n",
    "    seg.remove('')"
   ]
  },
  {
   "cell_type": "code",
   "execution_count": 32,
   "metadata": {},
   "outputs": [],
   "source": [
    "with open ('Chapter1_after.txt', 'w', encoding = 'utf-8') as outFile:\n",
    "    for line in seg:\n",
    "        outFile.write(line + '\\n')"
   ]
  },
  {
   "cell_type": "code",
   "execution_count": 34,
   "metadata": {},
   "outputs": [
    {
     "data": {
      "text/plain": [
       "'In this chapter, we provide a conceptual understanding of what a supply chain is and the various issues that need to be considered when designing, planning, or operating a supply chain.'"
      ]
     },
     "execution_count": 34,
     "metadata": {},
     "output_type": "execute_result"
    }
   ],
   "source": [
    "seg[5]"
   ]
  },
  {
   "cell_type": "code",
   "execution_count": null,
   "metadata": {},
   "outputs": [],
   "source": []
  }
 ],
 "metadata": {
  "kernelspec": {
   "display_name": "Python 3",
   "language": "python",
   "name": "python3"
  },
  "language_info": {
   "codemirror_mode": {
    "name": "ipython",
    "version": 3
   },
   "file_extension": ".py",
   "mimetype": "text/x-python",
   "name": "python",
   "nbconvert_exporter": "python",
   "pygments_lexer": "ipython3",
   "version": "3.6.5"
  }
 },
 "nbformat": 4,
 "nbformat_minor": 2
}
