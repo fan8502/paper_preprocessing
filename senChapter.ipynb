{
 "cells": [
  {
   "cell_type": "code",
   "execution_count": 1,
   "metadata": {},
   "outputs": [],
   "source": [
    "import re # for regular expression\n",
    "import sys\n",
    "import nltk"
   ]
  },
  {
   "cell_type": "code",
   "execution_count": 181,
   "metadata": {},
   "outputs": [],
   "source": [
    "#用utf-8-sig解決出現\\ufeff\n",
    "with open ('./Chapter/Chapter18.txt', 'r', encoding = 'utf-8-sig') as inFile:\n",
    "    Lines = inFile.readlines()"
   ]
  },
  {
   "cell_type": "code",
   "execution_count": 182,
   "metadata": {},
   "outputs": [],
   "source": [
    "Symbols = [ '•', '○', '●', '◎', '↑', '↓', '←', '→', '->', '<-', '`']\n",
    "Del = ['FIGURE','Chapter 18','18.1','18.2','18.3','18.4','18.5','18.6']\n",
    "for lid in range(len(Lines)):\n",
    "    Lines[lid] = Lines[lid].replace('\\n', '').strip()\n",
    "    for s in Symbols:\n",
    "        Lines[lid] = Lines[lid].replace(s, '').strip()\n",
    "    for d in Del:\n",
    "        if d in Lines[lid]:\n",
    "            Lines[lid]='.'"
   ]
  },
  {
   "cell_type": "code",
   "execution_count": 183,
   "metadata": {},
   "outputs": [
    {
     "data": {
      "text/plain": [
       "['After reading this chapter, you will be able to 1. Understand the importance of sustainability in a supply chain. 2. Discuss the challenge to sustainability posed by the tragedy of the commons. 3. Describe key metrics that can be used to measure sustainability for a supply chain. 4. Identify opportunities for improved sustainability in various supply chain drivers.',\n",
       " 'Sustainability has become a key priority in the design and operation of supply chains in the 21st century. A focus on sustainability allows a supply chain to better serve more environmentally conscious customers while often improving supply chain performance. In this chapter, we explore the importance of sustainability, some challenges to designing and operating more sustainable supply chains, and the role of different supply chain drivers in improving sustainability.',\n",
       " '.',\n",
       " 'The focus on sustainability has increased as the economies in large countries such as Brazil, China, and India have grown. On the one hand, the growth of emerging markets is improving global living standards in a way that perhaps has not happened before in human history. On the other hand, this growth puts pressure on resources and',\n",
       " '500',\n",
       " '',\n",
       " '.',\n",
       " \"the environment in a way that has also never happened. It has become increasingly clear that if supply chains do not become more sustainable than they have been in the past, the world's resources and environment cannot maintain this level of growth.\",\n",
       " 'The factors driving an increased focus on sustainability can be divided into three distinct categories:',\n",
       " '1. Reducing risk and improving the financial performance of the supply chain 2. Attracting customers who value sustainability 3. Making the world more sustainable',\n",
       " 'Even though there has been a lot of talk about all three categories, most concrete action has been observed in reducing risk for the supply chain and improving financial performance. Much less success has been driven by customer demand or the desire to make the world more sustainable. It is interesting to note that significant opportunity exists even if supply chains focus only on reducing risk and improving financial performance. A McKinsey report focused on greenhouse gas emissions reported that \"Almost 40 percent of [greenhouse gas] abatement could be achieved at negative marginal costs, meaning that investing in these options would generate positive economic returns over their lifecycle.\"',\n",
       " 'While much needs to be done, many companies have reported success in improving sustainability. Unilever, the Dutch-British consumer goods giant, has invested significant effort to help emerging economies such as Brazil and India wrestle with poverty, water scarcity, and climate change. In Brazil, the company helped tomato growers convert to drip irrigation to save water. The company sees almost half of its sales and the majority of its growth coming from emerging economies. It buys roughly \"10 percent of the world\\'s crops of tea and 30 percent of all spinach.\"1 A focus on sustainability helps Unilever improve the environment and economic health of markets where it is likely to see most of its future growth, while simultaneously ensuring supply of products it needs to feed this growth.',\n",
       " 'Wal-Mart started its focus on sustainability as a defensive move given the criticism it was taking from environmental activists. The company, however, has seen many benefits to the bottom line. Switching to more efficient light bulbs at its stores and adding skylights for natural light have helped significantly reduce its energy costs. Reducing packaging has helped reduce material costs and transportation costs. Another example is the redesign of the one-gallon milk jug by Wal-Mart and Costco to use less material and increase packing density during transportation. Even though it took the public some time to accept the new design, the effort saved \"10 to 20 cents a gallon compared to old jugs.\"2',\n",
       " 'Starbucks is another example of a company that has focused on sustainability for significant business reasons. In the late 1990s, the company realized that its growth plans could not be sustained without helping coffee growers increase their production in a sustainable manner. The company started its coffee and farmer equity (C.A.F.E.) practices, which evaluate the sustainable production of coffee along four dimensions: product quality, economic accountability, social responsibility, and environmental leadership. According to the company, \"the first two categories are prerequisites to participation in the program and ensure basic coffee quality and financial transparency, equity, and the viability of the coffee supply chain.\" Social responsibility measures the extent to which the working conditions are safe and humane. Environmental leadership measures the actions that suppliers are taking to \"manage waste, protect water quality, conserve water and energy, preserve biodiversity and reduce agrochemical use.\" Applicants are given \"preferred supplier\" status based on the score they achieve across the four categories. Preferred suppliers get a pricing premium of $0.05 per pound and favorable contract terms. The company claims that it sourced 84 percent of its coffee in 2010 from sources that were \"third-party verified',\n",
       " '1 \"Beyond the Green Corporation,\" Business Week, January 29, 2007. 2 \"Solution, or Mess? A Milk Jug for a Green Earth,\" New York Times, June 30, 2008.',\n",
       " '',\n",
       " '.',\n",
       " 'or certified through C.A.F.E. practices, Fairtrade or another externally audited system.\" Besides helping attract customers who care about sustainability, these efforts have helped Starbucks reduce supply risk and ensure an ongoing supply of high-quality coffee, the most critical input for its business.',\n",
       " \"Sustainability has presented more of a challenge when it requires efforts that do not provide obvious return on investment for a company. In fact, customers themselves have not always backed up words about the importance of sustainability with a willingness to pay more for sustainable products. In a survey, business leaders identified insufficient return on investment, customers' unwillingness to pay a premium for green products, and difficulty evaluating sustainability across a product life cycle as the major barriers to an increased focus on sustainability.3 When the business rationale for an increased focus on sustainability is not clearly defined for individual firms, maintaining the focus needed for building more sustainable supply chains is much harder. As we discuss in the next section, one of the biggest challenges to building sustainable supply chains is that in the short to medium term, an improved focus on sustainability provides benefits that are shared but costs that may be local to a firm, whereas the current status quo provides benefits that are local to firms but a cost that is global.\",\n",
       " '.',\n",
       " 'In an influential article, Hardin (1968) described the tragedy of the commons as a dilemma arising when the common good does not align perfectly with the good of individual entities. It is useful to study his example in somewhat greater detail. Consider a pasture that is open to all herdsmen with cattle. Each herdsman attempts to maximize his gain from this public asset. When his cattle feed in the pasture, he gains from their growth and all the gains accrue only to him. Any cost of overgrazing, however, is spread over all herdsmen whose cattle feed at the pasture. Thus, overgrazing by the cattle of any herdsman provides a positive utility of +1 for the herdsman but a negative utility of only a fraction of ? for the herdsman because the negative utility of ? is spread over all herdsmen. Thus, each rational herdsman continues to increase his herd because the positive utility to him of adding another animal exceeds the negative utility that he experiences from over grazing. As Hardin writes, \"Therein is the tragedy. Each man is locked into a system that compels him to increase his herd without limit--in a world that is limited. Ruin is the destination toward which all men rush, each pursuing his own best interest in a society that believes in the freedom of the commons. Freedom in a commons brings ruin to all.\"',\n",
       " 'Hardin then describes how the issue of environmental pollution is essentially the tragedy of the commons. Every individual and every company releases waste and pollution into the environment in the form of sewage, chemicals, and carbon dioxide. The individual or the company would incur the entire cost of reducing the amount of waste it discards, whereas the cost of throwing waste into the environment is shared by the entire world. The common environment available to all at no cost makes it difficult to get every company to invest in waste reduction efforts even though this waste hurts everybody.',\n",
       " 'This issue also shows up at the country level. The Intergovernmental Panel on Climate Change, a United Nations body that has been assessing global warming since 1990, has written that even though most of the buildup of carbon dioxide in the atmosphere has come from the United States and Western Europe, it is poorer countries closer to the equator that are likely to pay the biggest price. The risk of drought, disrupted water supplies, and the swelling of oceans from melting ice sheets as a result of global warming will mostly be experienced in Africa and the \"crowded river deltas in southern Asia and Egypt, along with small island nations.\"4 In such an environment, getting any agreement on action is difficult because the optimal joint action is',\n",
       " '3 \"Gibbs & Soell Survey,\" accessed on May 1, 2011, at www.cnbc.com/id/42432191/ 4 Revkin, Andrew C. \"Poor Nations to Bear Brunt as World Warms.\" New York Times, April 1, 2007.',\n",
       " '',\n",
       " '.',\n",
       " 'not individually optimal, whether at the company or country level. No wonder that it has been almost impossible to negotiate a climate change agreement that every country is willing to adhere to! Other examples of the tragedy of the commons come from the overuse of natural resources such as fish, water, and forests. Overfishing of sturgeon in Russia and the destruction of salmon runs in rivers that have been dammed are well documented.',\n",
       " 'Every company and supply chain faces the challenge of the tragedy of the commons as it operates in a global environment. They must compete against others that may be extracting benefits from the environmental or resource commons without spending to maintain these commons. They must compete in a market where customers often value low cost and are not willing to pay the price of a more sustainable solution, either in the form of a higher price or reduced consumption. Unless all consumers suddenly change their mind-set, it is difficult to imagine a sustainable solution emerging without some intervention. Whereas everyone agrees about the need for intervention, there is considerable disagreement on the required form of intervention.',\n",
       " 'What Are Some Solutions to This \"Tragedy\"?',\n",
       " 'In his article, Hardin focused on the problem arising from the fact that the commons are \"free\" to all. As he put it, no solution could be found without taking away some of the freedom that participants enjoyed in the commons. Regarding the national parks in the United States, he wrote, \"We might sell them off as private property. We might keep them as public property, but allocate the right to enter them. The allocation might be on the basis of wealth, by the use of an auction system. It might be on the basis of merit, as defined by some agreed upon standards. It might be by lottery. Or it might be on a first-come, first-served basis, administered to long queues. These, I think, are all objectionable. But we must choose--or acquiesce in the destruction of the commons that we call our National Parks.\" Rather than focus on Hardin\\'s many ideas, it is important to realize the point he makes is the need for us to choose from options that are unlikely to be supported by all of their own free will.',\n",
       " 'In the article, Hardin introduces the idea of \"mutual coercion,\" whereby social arrangements or mechanisms coerce all participants to behave in a way that helps the common good. Mutual coercion can be attempted through a command-and-control approach or market mechanisms. In a command-and-control approach, the government or regulators set standards that everybody must adhere to. An example is carbon monoxide emission standards set by the United States for new automobiles. Another example is the waste electrical and electronic equipment (WEEE) directive from the European Union that is geared at proper recycling and landfill avoidance in the electrical and electronics industry. The challenge with command-and-control approaches is that they tend to be inflexible and rarely cost effective.',\n",
       " 'We give a couple of examples of market mechanisms that have been debated (but not yet implemented in the United States as of October 2011!) in the context of greenhouse gases, a problem that is only getting worse as supply chains become more global. Currently, there is no \"charge\" for emitting greenhouse gases and no explicit limits that are strictly enforced. The commons here is the environment, and the lack of any \"mutual coercion\" leads to excessive emission of greenhouse gases into the atmosphere. The hope is to set mechanisms in place that can sustainably address the problem.',\n",
       " 'One mechanism has been referred to as \"cap-and-trade,\" which constrains the aggregate emissions by creating a limited number of tradeable emission allowances that emission sources must secure and surrender in proportion to their emissions. Any failure to surrender the appropriate number of allowances leads to a significant fine. The mechanism starts with the government creating a limited number of total allowances that are distributed among all players in the economy. If players generate fewer emissions than the allowances they own, they can sell their surplus allowances to others that may be polluting above their limit and need additional allowances. The \"price\" of allowances in this mechanism will be created by the supply and demand for allowances. Such a mechanism offers companies an incentive to reduce their emissions because they get a financial reward for this improvement by selling their additional allowances to those',\n",
       " '',\n",
       " '.',\n",
       " 'that cannot (or are unable to) reduce their emissions. The hope with this mechanism is that firms will choose the least expensive way to comply with the emissions limit by either implementing emissions reduction plans or buying allowances on the open market. This mechanism has several challenges, however. The first relates to the method that is used to evaluate the initial allowances awarded to each entity. Should they be in proportion to current pollution levels or desired pollution levels? How are the desired pollution levels to be calculated? How should the fine be evaluated if a company is not able to provide allowances for its emissions in a given year?',\n",
       " 'A second mechanism to control emissions is an emission tax. Each entity generating greenhouse gases is charged a tax proportional to the size of the emissions. This is similar in principle to the congestion-based toll we discussed to manage traffic congestion (see Chapter 14). A charge for emissions will encourage companies to reduce their emissions using all ideas whose marginal costs is less than the charge. As a result of an emission tax, the total amount of greenhouse gases produced will decrease. This mechanism has several challenges as well. What should this charge for emissions be? To what extent will the charge hurt the economy?',\n",
       " 'Answers to each question have a significant impact on the performance of either mechanism. There is still considerable debate among experts on each issue, given the uncertainty in being able to estimate the cost to society from these emissions. The significant challenge of whether these mechanisms can be implemented at the country level or need to be coordinated globally still exists. This is a particularly important issue given that most of the existing emissions have come from the developed world, whereas with global growth, an increasing share of future emissions is likely to come from economies that are still developing.',\n",
       " '.',\n",
       " 'As we mentioned earlier many actions taken in a supply chain can improve both sustainability and supply chain surplus. For example, the use of modular design by IKEA allows the company to tightly pack its parts when they are shipped from the production location to its retail stores. Modular design allows the company to simultaneously reduce emissions as well as its transportation costs. SC Johnson, a manufacturer of cleaning supplies and other consumer goods, has reported that between 1990 and 1999 the company used its eco-efficiency efforts to cut more than 420 million pounds of waste and save $125 million. In scenarios like these, in which sustainability improvements also improve the financial performance of the supply chain, one can focus on financial metrics to evaluate sustainability efforts. The majority of sustainability-related efforts, however, have a cost that the supply chain incurs for a benefit that may be more universal. In such situations, defining explicit metrics that can be used to judge sustainability-related efforts in the supply chain is important. In this section, we identify some important categories and metrics that supply chains can focus on.',\n",
       " 'A look at various corporate social responsibility (CSR) reports shows some commonality but also a lot of divergence in terms of the metrics they chose to report. All companies report some social and environmental metrics. A large variation exists, however, in terms of the precise metrics reported. For example, transportation companies tend to report on greenhouse emissions, fuel consumption, and transportation efficiency whereas pharmaceutical firms have a greater focus on waste management and water consumption. From an environmental perspective, all firms should measure and report on these four categories:',\n",
       " '1. Energy consumption 2. Water consumption 3. Greenhouse gas emissions 4. Waste generation',\n",
       " 'Two fundamental challenges exist in a supply chain in the measurement and reporting of the four categories. The first challenge relates to the scope over which a category is measured. Consider a company that reports only energy consumption within its own operations. If it',\n",
       " '',\n",
       " '.',\n",
       " 'decides to outsource some production to an offshore supplier, its own energy consumption will show a decline even though the energy consumption in the entire supply chain may have increased. If it decides to bring some production in-house and onshore, the energy consumption within its operations will show an increase even if the energy consumption for the entire supply chain has decreased. Thus, it is important to clearly define the scope across which all metrics are measured and reported. In the context of greenhouse gas emission, the Greenhouse Gas Protocol (GHG Protocol) initiative5 defines three scope levels. Scope 1 refers to emissions from GHG sources that are owned or controlled by the reporting entity, also referred to as direct emissions. Scope 2 refers to indirect emissions from grid-sourced electricity and other utility services including heat, steam, and cooling. Scope 3 refers to the inclusion of other indirect emissions coming from the production of purchased materials, outsourced activities, contractor-owned vehicles, waste disposal, and employee business travel. For most firms, the extent of direct emissions is typically only a small fraction of the extent of indirect emissions in the supply chain. For example, a detailed analysis by the pharmaceutical company Abbott indicated that its indirect emissions were about 6 to 14 times its direct emissions. Ideally, all categories should be measured across the entire supply chain from the consumer to the lowest tier supplier to capture the full impact of the supply chain on the environment.',\n",
       " 'The second challenge in measurement and reporting relates to the use of absolute or relative measures of performance. An absolute measure reports the total amount of energy consumption, whereas a relative measure may report the energy consumed per unit of output. The advantage of using an absolute measure is that it reports the full impact of the supply chain (assuming we use scope 3) along the category being measured. The disadvantage is that a drop in supply chain sales and production (e.g., in a downturn) will show an improved absolute measure of energy consumption even though the company may not have changed anything. A relative measure of performance is more effective at capturing improvement. The challenge with using a relative measure is the choice of basic unit because each category can be measured relative to dollars of sales, kilograms of output, or a variety of other units. In general, it is better for firms to measure and report both absolute and relative measures to get a true picture of their performance.',\n",
       " '.',\n",
       " 'Opportunities for improving supply chain sustainability can be identified by matching the four categories we have described (energy consumption, water consumption, greenhouse gas emissions, waste generation) with the various supply chain drivers discussed in the book. The goal is for every firm to measure its environmental impact for each driver along each of the four categories. In this section, we discuss some of the opportunities available for each driver and provide some examples.',\n",
       " 'Facilities',\n",
       " 'Facilities tend to be significant consumers of energy and water and emitters of waste and greenhouse gases and thus offer significant opportunities for profitable improvement. Once a firm measures the direct impact of each facility in terms of energy, water, emissions, and waste, it should separate the improvement opportunities into those that generate positive cash flows and those that do not. Successful companies start by identifying and implementing the profitable projects first. According to its 2011 CSR report, Walmart has designed and opened a viable store prototype that is up to 25 to 30 percent more energy efficient and produces up to 30 percent fewer greenhouse gas emissions compared to the 2005 baseline. Using more energy efficient light bulbs and building skylights for natural light has cut energy consumption at its existing stores. Walmart has also worked to convert waste management at its stores from a cost to a profit',\n",
       " '5 Accessed on May 2, 2011, from www.ghgprotocol.org/.',\n",
       " '',\n",
       " '.',\n",
       " 'generator. The company reported that in California, more than 80 percent of waste has been diverted from landfills and recycled to produce revenue.',\n",
       " 'Another example of profitable improvement comes from using technology to balance the peak load for energy across a chain of convenience stores. By suitably staggering the time that air conditioners and freezers at its stores are turned on, the chain can reduce the peak demand for energy across the store network, resulting in lower costs for the chain and a reduced demand for peak load in the grid.',\n",
       " 'Production facilities often have significant opportunity to reuse heat energy generated and reduce water usage during the process. Coca-Cola has worked hard to reuse heat energy from boilers in its production process and reduce its total water footprint. Lee (2010) gives the example of Posco, which worked with its equipment supplier, Siemens VAI, to create a new production process that cut costs and emissions without hurting product quality by using local iron ore that was of lower quality but less expensive. As a result, Posco reduced the cost of a new mill by 6 percent to 17 percent and decreased its operating costs by 15 percent while producing lower levels of greenhouse gases and other waste. As these examples illustrate, facilities often offer the best opportunity to simultaneously improve the environmental and financial performances through innovation.',\n",
       " 'Inventory',\n",
       " \"Most supply chains focus on raw materials, work in process, and finished goods inventory as we have in this book, but few focus on the inventory sitting in a typical landfill. While the inventory in the landfill may not show up in a firm's balance sheet, it does show up as one of the most damaging aspects from a sustainability perspective. The damage may be in the form of harmful additives or in the form of valuable energy and materials that are still locked in the landfill. Arguably, the most significant waste in any supply chain occurs when a product is thrown into the landfill because both materials and energy used to produce the product are now lost forever, potentially doing harm. The goal of every supply chain should be to track its landfill inventory and separate it in terms of harmful additives and unused value. Life cycle assessment (LCA) can be used to assess the environmental impacts associated with a product's life from cradle to grave. The goal should be to reduce (or at least limit) the harmful inventory and unlock the unused value in products when they are discarded.\",\n",
       " 'McDonough and Braungart (2002) discuss the importance of \"cradle to cradle\" design if we are to truly limit the landfill inventory generated by a supply chain. They suggest designing products \"that, when their useful life is over, do not become useless waste but can be tossed onto the ground to decompose and become food for plants and animals and nutrients for soil; or, alternately, they can return to industrial cycles to supply high quality raw materials for new products.\" Walmart, for example, reduced the amount of harmful phosphates in laundry and dish detergents in the Americas by 14.5 percent in 2011, with a goal of reaching a reduction of 70 percent. The company also redesigned packaging to eliminate 91 percent of jewelry pallets and make all its jewelry boxes from recycled materials.',\n",
       " 'Transportation',\n",
       " \"Transportation is another driver wherein firms are likely to find several positive cash flow opportunities. Any supply chain design innovation that lowers transportation costs also tends to reduce emissions and waste generated from transportation. In its 2011 CSR report, Walmart reported that in the United States, it decreased the amount of fuel used to deliver a case of product by 65 percent between 2005 and 2010. This improvement through increased aggregation, a more efficient loading of transportation vehicles, and an increase in their fuel efficiency cuts both cost as well as environmental damage. Lee (2010) cites four companies--HewlettPackard, Electrolux, Sony, and Braun--that have formed a joint venture, the European Recycling Platform, to gain better economies of scale in their recycling efforts. Lee reports that HP's cost of recycling digital cameras is only 1 or 2 euro cents in countries with the environmental platform compared to 7 euro cents to 1.24 euros in countries without the platform.\",\n",
       " '',\n",
       " '.',\n",
       " 'Product design can also play a significant role in reducing transportation cost and emissions by reducing packaging and allowing greater density during transportation. IKEA has always worked hard to design products that can be shipped flat to achieve high volume and weight density during transportation. As a result, the company not only lowers its transportation costs, it also reduces emissions and energy use.',\n",
       " 'Sourcing',\n",
       " 'For most firms, the majority of energy and water use and waste and emissions occurs in the extended supply chain outside their own enterprise. Thus, to truly have an impact on sustainability, powerful players must look at the extended supply chain and work with their suppliers to improve performance. As we have mentioned earlier, the C.A.F.E. program at Starbucks encourages suppliers to improve their environmental and social responsibility scores by providing a price premium. Walmart and IKEA have also set aggressive targets for their suppliers to improve overall supply chain sustainability. Failure to work with suppliers on sustainability should also be viewed as a potential source of risk that can cause considerable damage to the reputation and sales of a firm. The presence of lead paint in some of its most popular toys forced Mattel to recall hundreds of thousands of toys sold between April and July of 2007.6 Verifying and tracking supplier performance with regard to sustainability, however, continues to be a major challenge for most firms. This effort has become more difficult as supply chains have become increasingly global and fragmented.',\n",
       " 'Information',\n",
       " 'Good information continues to be one of the biggest challenges to improved supply chain sustainability. The absence of standards for measurement and reporting has led to claims of improvement that are often not verifiable. In the short term, this has led to company-specific standards and an explosion of certifications and certifying agencies. Companies talk of working toward a common set of standards, but it is unlikely that such standards will emerge because incentives are not aligned across different firms. This poses a challenge both within firms and across supply chains when it comes to improving sustainability. The C.A.F.E. standards and supplier rating are an effort by Starbucks to encourage suppliers to focus on sustainability. Plambeck (2007) describes efforts within Walmart to measure and motivate both suppliers and associates. To reduce packaging, Walmart implemented a Web-based scorecard that evaluated the packaging of each product along nine metrics such as cube utilization and recycled content. This scorecard was used to measure and recognize improvements in packaging. Even though universal standards may not be possible, the use of consistent scorecards within a supply chain can go a long way toward aligning the sustainability efforts of all members of the extended supply chain.',\n",
       " 'Pricing',\n",
       " 'Consumption visibility and differential pricing by load or time of day have the potential to make a significant difference in the usage of energy by consumers. Some studies have found that when people can see how much electricity they are using and the impact of turning off different appliances, their usage decreases by between 10 to 15 percent. If this visibility is simultaneously coupled with lower price off-peak electricity, there is a potential to reduce peak load demand. In general, increasing the visibility of the environmental impact of products can help customers make more informed choices, especially when the sustainable option costs more.',\n",
       " \"One of the biggest challenges to improved sustainability of a supply chain is changing the customer's willingness to pay for a product that is produced and distributed by a supply chain in a more sustainable manner but ends up costing more. Even a company such as Walmart, which is focused on improved sustainability, has not hit its targets for the use of renewable energy because\",\n",
       " '6 Story, Louise, \"Lead Paint Prompts Mattel to Recall 967,000 Toys.\" New York Times, August 2, 2007.',\n",
       " '',\n",
       " '.',\n",
       " 'these sources have higher costs compared to other sources of energy. In the short term, government incentives supporting some sustainable products can help. For example, in 2011, the Nissan Leaf electric vehicle qualified for a federal tax credit of $7,500 in the United States. In the long term, however, sustainability cannot be improved in a supply chain simply by focusing on reducing costs or the use of incentives. The efforts toward increased sustainability will pick up greater speed once customers place greater value on it, allowing supply chains to grow the supply chain surplus by being sustainable.',\n",
       " '.',\n",
       " 'As we have discussed earlier, supply chains typically cause significant harm to the environment when their output ends up in a landfill. One of the biggest opportunities to improve sustainability is for firms to design products that can be reused and recycled. In practice, it is not sufficient to design a recyclable product. The product has to be supported by a supply chain that ensures recycling. Without the support of the supply chain, even products that can be recycled end up in the landfill! In this section, we raise some challenges in developing closed-loop supply chains that can profitably take back product from customers and recover value by reusing the entire product or some part of it. Guide and Van Wassenhove (2009) provide an excellent discussion of closed-loop supply chains.',\n",
       " 'Guide and Van Wassenhove describe three scenarios wherein a supply chain may handle returns. In the first, a customer returns a product either because it is defective or because he or she has decided during the return period that the product is not needed. If the product is defective, the supply chain has to be able to perform any light repair (which may be as simple as cleaning) and reintroduce it into the market. When a customer has used the product over its useful life and is ready to throw it away, the product is either trashed or can be picked up by the supply chain. Trashing the product hurts the environment. Even if the product is returned to the supply chain, several issues need to be addressed if environmental gains are to be realized. Some of the returned parts can potentially be remanufactured and used in making other products. The other parts will need to be successfully recycled. The following three pairings result: Consumer returns are to be repaired, end-of use returns are to be remanufactured, and end-of-life returns are to be recycled for sustainability. Besides any technical challenges of performing each task, one of the most significant challenges is to design products and supply chains in which these tasks can be performed economically. In fact, many cities in the United States (including New York) cut back their recycling efforts in the early part of the 21st century because the cost of recycling was high and the market for recycled products was weak.',\n",
       " 'Whether products are to be repaired, remanufactured, or recycled, the economic interests of all the parties involved must be understood and aligned for the activities to be performed. For example, does a company gain or lose economically by selling remanufactured products along with new ones? How can a firm ensure sufficient access to used products if it plans to remanufacture? Who should be responsible for collecting used products (the retailer, the manufacturer, or a third party)? What incentives need to be in place for the economic interests of the entire supply chain to be aligned in such a setting? Do any decisions change if the product has a short or long life cycle? Another issue arises with regard to the design of durable components if they are to be remanufactured. Suppliers often have little interest in increasing durability of components because that may cut back on the sales of their own products. What incentives need to be in place for them to design and produce durable products? The answers to these questions determine the extent to which supply chains will be sustainable.',\n",
       " '.',\n",
       " \"1. Understand the importance of sustainability in a supply chain. As supply chains have globalized and emerging countries have grown, it has become increasingly clear that the world's resources and environment will not be able to support this growth unless supply chains\",\n",
       " '',\n",
       " '.',\n",
       " 'become more sustainable. Besides the need to make the world more sustainable, an increased focus on sustainability has allowed some supply chains to reduce risk, become more efficient, and also attract some customers who value these efforts.',\n",
       " '2. Discuss the challenge to sustainability posed by the tragedy of the commons. Many actions that improve sustainability of a supply chain impose costs that are local (to an individual, a firm, supply chain, or country) but provide common benefits that are more global. In contrast, a disregard for sustainability provides benefits that are local but costs that are shared globally. As a result, encouraging sustainability without some external pressure either in the form of a public mandate or economic incentive can be difficult.',\n",
       " '3. Describe key metrics that can be used to measure sustainability for a supply chain. Supply chain sustainability can be measured in terms of energy consumption, water consumption, greenhouse gas emission, and waste generation. It is important that these metrics be tracked across as wide a scope of the supply chain as possible.',\n",
       " '4. Identify opportunities for improved sustainability in various supply chain drivers. Facilities can be redesigned to reduce both energy use and emissions. Products should be designed with a \"cradle to cradle\" philosophy to decrease landfill inventory and increase the reuse of material. Designing products to limit packaging and improve transportation density helps reduce costs as well as emissions during transportation. Given that any one firm is only a small fraction of a supply chain\\'s impact on the environment, it is critical that powerful players work with the extended supply chain to improve sustainability. Clearly defined standards for measurement and reporting of performance are important if sustainability is to improve across supply chains. Finally, a significant driver of improved sustainability will be customers\\' willingness to reward successful supply chains.',\n",
       " '',\n",
       " 'Discussion Questions',\n",
       " '1. What are some benefits to improved sustainability of a supply chain?',\n",
       " '2. What are some challenges that limit the effort put in by supply chains to improve sustainability?',\n",
       " '3. Describe the \"tragedy of the commons\" in the context of supply chain sustainability. What are some \"mutually coercive\" mechanisms that could be implemented to encourage supply chain sustainability?',\n",
       " '4. What are some problems with firms reporting their sustainability performance based on metrics that do not consider their extended supply chain?',\n",
       " '',\n",
       " '5. Study the CSR reports for a couple of firms. Identify actions across a few supply chain drivers that have improved sustainability. Which areas has the company found challenging to improve?',\n",
       " '6. Even if a product is designed to be recyclable, discuss some challenges in designing a closed-loop supply chain that can recycle sustainably.',\n",
       " '',\n",
       " 'Bibliography',\n",
       " '',\n",
       " 'Creyts, Jon, Anton Derkach, Scott Nyquist, Ken Ostrowski, and Jack Stephenson. Reducing U.S. Greenhouse Gas Emissions: How Much at What Cost? McKinsey & Company, December 2007.',\n",
       " 'Guide, V. Daniel R., Jr., and Luk N. Van Wassenhove. \"The Evolution of Closed Loop Supply Chains.\" Operations Research 57 (January胚ebruary 2009): 10?8.',\n",
       " 'Hardin, Garrett. \"The Tragedy of the Commons\" Science 162 (1968): 1243?248.',\n",
       " 'Hawken, Paul, Amory Lovins, and L. Hunter Lovins. Natural Capitalism. New York: Little, Brown and Company, 1999.',\n",
       " '',\n",
       " 'Horne, Ralph, Tim Grant, and Karli Varghese. Life Cycle Assessment: Principles, Practice and Prospects. Collingwood, Australia: CSIRO Publishing, 2009.',\n",
       " 'Lee, Hau L. \"Don\\'t Tweak Your Supply Chain--Rethink It End to End.\" Harvard Business Review (October 2010): 61?9.',\n",
       " 'McDonough, William, and Michael Braungart. Cradle to Cradle. New York: North Point Press, 2002.',\n",
       " 'Plambeck, Erica. \"Wal-Mart\\'s Sustainability Strategy.\" Stanford Graduate School of Business Case OIT-71.',\n",
       " 'Prokesch, Steven. \"The Sustainable Supply Chain.\" Harvard Business Review (October 2010): 70?2.',\n",
       " '',\n",
       " '']"
      ]
     },
     "execution_count": 183,
     "metadata": {},
     "output_type": "execute_result"
    }
   ],
   "source": [
    "Lines"
   ]
  },
  {
   "cell_type": "code",
   "execution_count": 184,
   "metadata": {},
   "outputs": [],
   "source": [
    "senTokenizer = nltk.data.load('tokenizers/punkt/english.pickle')\n",
    "SentenceList = []\n",
    "all =' '.join(str(d) for d in Lines)\n",
    "seg=nltk.sent_tokenize(all)"
   ]
  },
  {
   "cell_type": "code",
   "execution_count": 185,
   "metadata": {},
   "outputs": [
    {
     "name": "stdout",
     "output_type": "stream",
     "text": [
      "2.\n",
      "3.\n",
      "4.\n",
      ".\n",
      ".\n",
      ".\n",
      "Water consumption 3.\n",
      "If it  .\n",
      ".\n",
      ".\n",
      "generator.\n",
      ".\n",
      "The C.A.F.E.\n",
      ".\n",
      ".\n",
      "1.\n",
      "2.\n",
      "3.\n",
      "4.\n",
      "2.\n",
      "3.\n",
      "4.\n",
      "5.\n",
      "6.\n",
      "Hardin, Garrett.\n",
      "Natural Capitalism.\n",
      "Cradle to Cradle.\n",
      "Plambeck, Erica.\n",
      "Prokesch, Steven.\n"
     ]
    }
   ],
   "source": [
    "for sid in range(len(seg)):\n",
    "    if len(seg[sid])<=20:\n",
    "        print(seg[sid])\n",
    "        seg[sid]=''\n",
    "while '' in seg:\n",
    "    seg.remove('')"
   ]
  },
  {
   "cell_type": "code",
   "execution_count": 186,
   "metadata": {},
   "outputs": [],
   "source": [
    "with open ('Chapter18_after.txt', 'w', encoding = 'utf-8') as outFile:\n",
    "    for line in seg:\n",
    "        r='Discussion Questions' in line\n",
    "        if r == True:\n",
    "            break;\n",
    "            print(\"yes\")\n",
    "        else:\n",
    "            outFile.write(line + '\\n')\n",
    "#         if line in 'Discussion Questions':\n",
    "#             break;"
   ]
  },
  {
   "cell_type": "code",
   "execution_count": 187,
   "metadata": {},
   "outputs": [
    {
     "data": {
      "text/plain": [
       "'Sustainability has become a key priority in the design and operation of supply chains in the 21st century.'"
      ]
     },
     "execution_count": 187,
     "metadata": {},
     "output_type": "execute_result"
    }
   ],
   "source": [
    "seg[5]"
   ]
  },
  {
   "cell_type": "code",
   "execution_count": null,
   "metadata": {},
   "outputs": [],
   "source": []
  }
 ],
 "metadata": {
  "kernelspec": {
   "display_name": "Python 3",
   "language": "python",
   "name": "python3"
  },
  "language_info": {
   "codemirror_mode": {
    "name": "ipython",
    "version": 3
   },
   "file_extension": ".py",
   "mimetype": "text/x-python",
   "name": "python",
   "nbconvert_exporter": "python",
   "pygments_lexer": "ipython3",
   "version": "3.7.0b2"
  }
 },
 "nbformat": 4,
 "nbformat_minor": 2
}
