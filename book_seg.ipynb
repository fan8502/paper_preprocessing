{
 "cells": [
  {
   "cell_type": "code",
   "execution_count": 11,
   "metadata": {},
   "outputs": [],
   "source": [
    "import TSF2"
   ]
  },
  {
   "cell_type": "code",
   "execution_count": 12,
   "metadata": {},
   "outputs": [],
   "source": [
    "with open ('Chapter1_after_again.txt', 'r', encoding = 'UTF-8') as inFile:\n",
    "    seg = inFile.readlines()\n",
    "seg = [s.replace('\\n', '').strip() for s in seg]"
   ]
  },
  {
   "cell_type": "code",
   "execution_count": 19,
   "metadata": {},
   "outputs": [
    {
     "data": {
      "text/plain": [
       "465"
      ]
     },
     "execution_count": 19,
     "metadata": {},
     "output_type": "execute_result"
    }
   ],
   "source": [
    "len(seg)"
   ]
  },
  {
   "cell_type": "code",
   "execution_count": 17,
   "metadata": {},
   "outputs": [
    {
     "name": "stdout",
     "output_type": "stream",
     "text": [
      "Avg = 0.34750229773234953\n",
      "Dev = 0.24322657175117504\n"
     ]
    }
   ],
   "source": [
    "# 參數設定之參考論文\n",
    "# Improving Text Segmentation with Clustering Cohesion\n",
    "# Efficient linear text segmentation based on information retrieval techniques\n",
    "\n",
    "K = 8 # the number of sentences in a block\n",
    "THRESHOLD_DISSIM = 0.7 #根據Kern and Granitzer (2009)的建議訂為0.7。\n",
    "ParaSenList = TSF2.SegementPara(seg, K, THRESHOLD_DISSIM)"
   ]
  },
  {
   "cell_type": "code",
   "execution_count": 18,
   "metadata": {},
   "outputs": [
    {
     "name": "stdout",
     "output_type": "stream",
     "text": [
      "56\n",
      "43\n",
      "20\n",
      "33\n",
      "37\n",
      "1\n",
      "7\n",
      "30\n",
      "44\n",
      "25\n",
      "2\n",
      "27\n",
      "28\n",
      "1\n",
      "24\n",
      "3\n",
      "1\n",
      "14\n",
      "7\n",
      "1\n",
      "18\n",
      "3\n",
      "6\n",
      "13\n",
      "1\n",
      "1\n",
      "19\n"
     ]
    }
   ],
   "source": [
    "for i in range(len(ParaSenList)):\n",
    "    print (len(ParaSenList[i]))"
   ]
  },
  {
   "cell_type": "code",
   "execution_count": 42,
   "metadata": {},
   "outputs": [
    {
     "data": {
      "text/plain": [
       "['\\ufeffLEARNING OBJECTIVES After reading this chapter, you will be able to 1.',\n",
       " 'Discuss the goal of a supply chain and explain the impact of supply chain decisions on the success of a firm.',\n",
       " 'Identify the three key supply chain decision phases and explain the significance of each one.',\n",
       " 'Describe the cycle and push/pull views of a supply chain.',\n",
       " 'Classify the supply chain macro processes in a firm.',\n",
       " 'In this chapter, we provide a conceptual understanding of what a supply chain is and the various issues that need to be considered when designing, planning, or operating a supply chain.',\n",
       " 'We discuss the significance of supply chain decisions and supply chain performance for the success of a firm.',\n",
       " 'We also provide several examples from different industries to emphasize the variety of supply chain issues that companies need to consider at the strategic, planning, and operational levels.',\n",
       " '1.1 WHAT IS A SUPPLY CHAIN?',\n",
       " 'A supply chain consists of all parties involved, directly or indirectly, in fulfilling a customer request.',\n",
       " 'The supply chain includes not only the manufacturer and suppliers, but also transporters, warehouses, retailers, and even customers themselves.',\n",
       " 'Within each organization, such as a manufacturer, the supply chain includes all functions involved in receiving and filling a customer request.',\n",
       " 'These functions include, but are not limited to, new product development, marketing, operations, distribution, finance, and customer service.',\n",
       " 'Consider a customer walking into a Wal-Mart store to purchase detergent.',\n",
       " 'The supply chain begins with the customer and his or her need for detergent.',\n",
       " 'The next stage of this supply chain is the Wal-Mart retail store that the customer visits.',\n",
       " 'Wal-Mart stocks its shelves using inventory that may have been supplied from a finished-goods warehouse or a distributor using trucks supplied by a third party.',\n",
       " 'The distributor in turn is stocked by the manufacturer (say, Procter & Gamble [P&G] in this case).',\n",
       " 'The P&G manufacturing plant receives raw material from a variety of suppliers, who may themselves have been supplied by lower-tier suppliers.',\n",
       " 'For example, packaging material may come from Pactiv Corporation (formerly Tenneco Packaging) while Pactiv receives raw materials to manufacture the packaging from other suppliers.',\n",
       " 'This supply chain is illustrated in Figure 1-1, with the arrows corresponding to the direction of physical product flow.',\n",
       " 'Timber Company  Paper Manufacturer  Pactiv Corporation  P&G or Other Manufacturer  Chemical Manufacturer  Wal-Mart or Third Party DC  Wal-Mart Store  Customer  Plastic Producer  .',\n",
       " 'A supply chain is dynamic and involves the constant flow of information, product, and funds between different stages.',\n",
       " 'In our example, Wal-Mart provides the product, as well as pricing and availability information, to the customer.',\n",
       " 'The customer transfers funds to Wal-Mart.',\n",
       " 'Wal-Mart conveys point-of-sales data as well as replenishment orders to the warehouse or distributor, who transfers the replenishment order via trucks back to the store.',\n",
       " 'Wal-Mart transfers funds to the distributor after the replenishment.',\n",
       " 'The distributor also provides pricing information and sends delivery schedules to Wal-Mart.',\n",
       " 'Wal-Mart may send back packaging material to be recycled.',\n",
       " 'Similar information, material, and fund flows take place across the entire supply chain.',\n",
       " 'In another example, when a customer makes a purchase online from Dell Computer, the supply chain includes, among others, the customer, Dell’s Web site, the Dell assembly plant, and all of Dell’s suppliers and their suppliers.',\n",
       " 'The Web site provides the customer with information regarding pricing, product variety, and product availability.',\n",
       " 'Having made a product choice, the customer enters the order information and pays for the product.',\n",
       " 'The customer may later return to the Web site to check the status of the order.',\n",
       " 'Stages further up the supply chain use customer order information to fill the request.',\n",
       " 'That process involves an additional flow of information, product, and funds among various stages of the supply chain.',\n",
       " 'These examples illustrate that the customer is an integral part of the supply chain.',\n",
       " 'In fact, the primary purpose of any supply chain is to satisfy customer needs and, in the process, generate profit for itself.',\n",
       " 'The term supply chain conjures up images of product or supply moving from suppliers to manufacturers to distributors to retailers to customers along a chain.',\n",
       " 'This is certainly part of the supply chain, but it is also important to visualize information, funds, and product flows along both directions of this chain.',\n",
       " 'The term supply chain may also imply that only one player is involved at each stage.',\n",
       " 'In reality, a manufacturer may receive material from several suppliers and then supply several distributors.',\n",
       " 'Thus, most supply chains are actually networks.',\n",
       " 'It may be more accurate to use the term supply network or supply web to describe the structure of most supply chains, as shown in Figure 1-2.',\n",
       " 'A typical supply chain may involve a variety of stages, including the following:       Customers Retailers Wholesalers/distributors Manufacturers Component/raw material suppliers  Each stage in a supply chain is connected through the flow of products, information, and funds.',\n",
       " 'These flows often occur in both directions and may be managed by one of the stages or an intermediary.',\n",
       " 'Supplier  Manufacturer  Distributor  Retailer  Customer  Supplier  Manufacturer  Distributor  Retailer  Customer  Supplier  Manufacturer  Distributor  Retailer  Customer  .',\n",
       " 'Each stage in Figure 1-2 need not be present in a supply chain.',\n",
       " 'As discussed in Chapter 4, the appropriate design of the supply chain depends on both the customer’s needs and the roles played by the stages involved.',\n",
       " 'For example, Dell has two supply chain structures that it uses to serve its customers.',\n",
       " 'For its corporate clients and also some individuals who want a customized personal computer (PC), Dell builds to order; that is, a customer order initiates manufacturing at Dell.',\n",
       " 'For these customers, Dell does not have a separate retailer, distributor, or wholesaler in the supply chain.',\n",
       " 'Since 2007, Dell has also sold its PCs through Wal-Mart in the United States and the GOME Group, China’s largest electronics retailer.',\n",
       " 'Both Wal-Mart and the GOME Group carry Dell machines in inventory.',\n",
       " 'This supply chain thus contains an extra stage (the retailer) compared to the direct sales model also used by Dell.',\n",
       " 'In the case of other retail stores, the supply chain may also contain a wholesaler or distributor between the store and the manufacturer.',\n",
       " '1.2 THE OBJECTIVE OF A SUPPLY CHAIN The objective of every supply chain should be to maximize the overall value generated.',\n",
       " 'The value (also known as supply chain surplus) a supply chain generates is the difference between what the value of the final product is to the customer and the costs the supply chain incurs in filling the customer’s request.',\n",
       " 'Supply Chain Surplus = Customer Value – Supply Chain Cost The value of the final product may vary for each customer and can be estimated by the maximum amount the customer is willing to pay for it.',\n",
       " 'The difference between the value of the product and its price remains with the customer as consumer surplus.',\n",
       " 'The rest of the supply chain surplus becomes supply chain profitability, the difference between the revenue generated from the customer and the overall cost across the supply chain.',\n",
       " 'For example, a customer purchasing a wireless router from Best Buy pays $60, which represents the revenue the supply chain receives.',\n",
       " 'Customers who purchase the router clearly value it at or above $60.',\n",
       " 'Thus, part of the supply chain surplus is left with the customer as consumer surplus.',\n",
       " 'The rest stays with the supply chain as profit.',\n",
       " 'Best Buy and other stages of the supply chain incur costs to convey information, produce components, store them, transport them, transfer funds, and so on.',\n",
       " 'The difference between the $60 that the customer paid and the sum of all costs incurred by the supply chain to produce and distribute the router represents the supply chain profitability.',\n",
       " 'Supply chain profitability is the total profit to be shared across all supply chain stages and intermediaries.',\n",
       " 'The higher the supply chain profitability, the more successful is the supply chain.',\n",
       " 'For most profit-making supply chains, the supply chain surplus will be strongly correlated with profits.',\n",
       " 'Supply chain success should be measured in terms of supply chain profitability and not in terms of the profits at an individual stage.',\n",
       " '(In subsequent chapters, we see that a focus on profitability at individual stages may lead to a reduction in overall supply chain profits.)',\n",
       " 'A focus on growing the supply chain surplus pushes all members of the supply chain toward growing the size of the overall pie.',\n",
       " 'Having defined the success of a supply chain in terms of supply chain profitability, the next logical step is to look for sources of value, revenue, and cost.',\n",
       " 'For any supply chain, there is only one source of revenue: the customer.',\n",
       " 'The value obtained by a customer purchasing detergent at Wal-Mart depends upon several factors, including the functionality of the detergent, how far the customer has to travel to Wal-Mart, and the likelihood of finding the detergent in stock.',\n",
       " 'The customer is the only one providing positive cash flow for the Wal-Mart supply chain.',\n",
       " 'All other cash flows are simply fund exchanges that occur within the supply chain, given that different stages have different owners.',\n",
       " 'When Wal-Mart pays its supplier, it is taking a portion of the funds the customer provides and passing that money on to the supplier.',\n",
       " 'All flows of information, product, or funds generate costs within the supply chain.',\n",
       " 'Thus, the appropriate management of these flows is a key to supply chain success.',\n",
       " 'Effective supply chain management involves the management of supply chain assets and product, information, and fund flows to maximize total supply chain surplus.',\n",
       " 'A growth in supply chain surplus increases the size of the total pie, allowing contributing members of the supply chain to benefit.',\n",
       " 'In this book, we have a strong focus on analyzing all supply chain decisions in terms of their impact on the supply chain surplus.',\n",
       " 'These decisions and their impact can vary for a wide variety of reasons.',\n",
       " 'For instance, consider the difference in the supply chain structure for fast-moving consumer goods observed in the United States and India.',\n",
       " 'U.S. distributors play a much smaller role in this supply chain compared to their Indian counterparts.',\n",
       " 'We argue that the difference in supply chain structure can be explained by the impact a distributor has on the supply chain surplus in the two countries.',\n",
       " 'Retailing in the United States is largely consolidated, with large chains buying consumer goods from most manufacturers.',\n",
       " 'This consolidation gives retailers sufficient scale that the introduction of an intermediary such as a distributor does little to reduce costs and may actually increase costs because of an additional transaction.',\n",
       " 'In contrast, India has millions of small retail outlets.',\n",
       " 'The small size of Indian retail outlets limits the amount of inventory they can hold, thus requiring frequent replenishment—an order can be compared with the weekly grocery shopping for a family in the United States.',\n",
       " 'The only way for a manufacturer to keep transportation costs low is to bring full truckloads of product close to the market and then distribute locally using “milk runs” with smaller vehicles.',\n",
       " 'The presence of an intermediary who can receive a full truckload shipment, break bulk, and then make smaller deliveries to the retailers is crucial if transportation costs are to be kept low.',\n",
       " 'Most Indian distributors are one-stop shops, stocking everything from cooking oil to soaps and detergents made by a variety of manufacturers.',\n",
       " 'Besides the convenience provided by one-stop shopping, distributors in India are also able to reduce transportation costs for outbound delivery to the retailer by aggregating products across multiple manufacturers during the delivery runs.',\n",
       " 'Distributors in India also handle collections, because their cost of collection is significantly lower than that of each manufacturer collecting from retailers on its own would be.',\n",
       " 'Thus, the important role of distributors in India can be explained by the growth in supply chain surplus that results from their presence.',\n",
       " 'The supply chain surplus argument implies that as retailing in India begins to consolidate, the role of distributors will diminish.']"
      ]
     },
     "execution_count": 42,
     "metadata": {},
     "output_type": "execute_result"
    }
   ],
   "source": [
    "ParaSenList[0]"
   ]
  },
  {
   "cell_type": "code",
   "execution_count": null,
   "metadata": {},
   "outputs": [],
   "source": []
  }
 ],
 "metadata": {
  "kernelspec": {
   "display_name": "Python 3",
   "language": "python",
   "name": "python3"
  },
  "language_info": {
   "codemirror_mode": {
    "name": "ipython",
    "version": 3
   },
   "file_extension": ".py",
   "mimetype": "text/x-python",
   "name": "python",
   "nbconvert_exporter": "python",
   "pygments_lexer": "ipython3",
   "version": "3.6.5"
  }
 },
 "nbformat": 4,
 "nbformat_minor": 2
}
