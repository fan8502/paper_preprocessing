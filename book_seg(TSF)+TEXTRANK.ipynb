{
 "cells": [
  {
   "cell_type": "code",
   "execution_count": 20,
   "metadata": {},
   "outputs": [],
   "source": [
    "import TSF2"
   ]
  },
  {
   "cell_type": "code",
   "execution_count": 21,
   "metadata": {},
   "outputs": [],
   "source": [
    "with open ('Chapter2_after.txt', 'r', encoding = 'UTF-8') as inFile:\n",
    "    seg = inFile.readlines()\n",
    "seg = [s.replace('\\n', '').strip() for s in seg]"
   ]
  },
  {
   "cell_type": "code",
   "execution_count": 22,
   "metadata": {},
   "outputs": [],
   "source": [
    "del(seg[0]) #刪除課本第一句(標題無用)"
   ]
  },
  {
   "cell_type": "code",
   "execution_count": 23,
   "metadata": {},
   "outputs": [
    {
     "data": {
      "text/plain": [
       "[\"Explain why achieving strategic fit is critical to a company's overall success.\",\n",
       " 'Describe how a company achieves strategic fit between its supply chain strategy and its competitive strategy.',\n",
       " 'Discuss the importance of expanding the scope of strategic fit across the supply chain.']"
      ]
     },
     "execution_count": 23,
     "metadata": {},
     "output_type": "execute_result"
    }
   ],
   "source": [
    "len(seg)\n",
    "seg[:3]"
   ]
  },
  {
   "cell_type": "code",
   "execution_count": 24,
   "metadata": {},
   "outputs": [
    {
     "name": "stdout",
     "output_type": "stream",
     "text": [
      "Avg = 0.3417123267714496\n",
      "Dev = 0.258436783288032\n"
     ]
    }
   ],
   "source": [
    "# 參數設定之參考論文\n",
    "# Improving Text Segmentation with Clustering Cohesion\n",
    "# Efficient linear text segmentation based on information retrieval techniques\n",
    "\n",
    "K = 8 # the number of sentences in a block\n",
    "THRESHOLD_DISSIM = 0.7 #根據Kern and Granitzer (2009)的建議訂為0.7。\n",
    "ParaSenList = TSF2.SegementPara(seg, K, THRESHOLD_DISSIM)"
   ]
  },
  {
   "cell_type": "code",
   "execution_count": 25,
   "metadata": {},
   "outputs": [
    {
     "name": "stdout",
     "output_type": "stream",
     "text": [
      "8\n",
      "60\n",
      "36\n",
      "1\n",
      "6\n",
      "9\n",
      "2\n",
      "1\n",
      "2\n",
      "59\n",
      "13\n",
      "1\n",
      "23\n",
      "12\n",
      "19\n",
      "1\n",
      "1\n",
      "32\n",
      "14\n",
      "19\n",
      "15\n",
      "8\n",
      "63\n",
      "1\n",
      "1\n",
      "11\n",
      "1\n",
      "61\n"
     ]
    }
   ],
   "source": [
    "for i in range(len(ParaSenList)):\n",
    "    print (len(ParaSenList[i]))"
   ]
  },
  {
   "cell_type": "code",
   "execution_count": 78,
   "metadata": {},
   "outputs": [
    {
     "data": {
      "text/plain": [
       "['In general, customer demand from different segments varies along several attributes as follows: ?The Quantity of the Product Needed in Each Lot: An emergency order for material needed to repair a production line is likely to be small.',\n",
       " 'An order for material to construct a new production line is likely to be large.',\n",
       " '?The Response Time That Customers Are Willing to Tolerate: The tolerable response time for the emergency order is likely to be short, whereas the allowable response time for the construction order is apt to be long.',\n",
       " '?The Variety of Products Needed: A customer may place a high premium on the availability of all parts of an emergency repair order from a single supplier.',\n",
       " 'This may not be the case for the construction order.',\n",
       " '?The Service Level Required: A customer placing an emergency order expects a high level of product availability.',\n",
       " 'This customer may go elsewhere if all parts of the order are not immediately available.',\n",
       " 'This is not apt to happen in the case of the construction order, for which a long lead time is likely.',\n",
       " '?The Price of the Product: The customer placing the emergency order is apt to be much less sensitive to price than the customer placing the construction order.']"
      ]
     },
     "execution_count": 78,
     "metadata": {},
     "output_type": "execute_result"
    }
   ],
   "source": [
    "ParaSenList[5]"
   ]
  },
  {
   "cell_type": "code",
   "execution_count": 81,
   "metadata": {},
   "outputs": [],
   "source": [
    "ParaSen = ' '.join(ParaSenList[5])"
   ]
  },
  {
   "cell_type": "code",
   "execution_count": 82,
   "metadata": {},
   "outputs": [
    {
     "data": {
      "text/plain": [
       "'In general, customer demand from different segments varies along several attributes as follows: ?The Quantity of the Product Needed in Each Lot: An emergency order for material needed to repair a production line is likely to be small. An order for material to construct a new production line is likely to be large. ?The Response Time That Customers Are Willing to Tolerate: The tolerable response time for the emergency order is likely to be short, whereas the allowable response time for the construction order is apt to be long. ?The Variety of Products Needed: A customer may place a high premium on the availability of all parts of an emergency repair order from a single supplier. This may not be the case for the construction order. ?The Service Level Required: A customer placing an emergency order expects a high level of product availability. This customer may go elsewhere if all parts of the order are not immediately available. This is not apt to happen in the case of the construction order, for which a long lead time is likely. ?The Price of the Product: The customer placing the emergency order is apt to be much less sensitive to price than the customer placing the construction order.'"
      ]
     },
     "execution_count": 82,
     "metadata": {},
     "output_type": "execute_result"
    }
   ],
   "source": [
    "ParaSen"
   ]
  },
  {
   "cell_type": "markdown",
   "metadata": {},
   "source": [
    "## gensim內建的textrank"
   ]
  },
  {
   "cell_type": "code",
   "execution_count": 29,
   "metadata": {},
   "outputs": [],
   "source": [
    "import nltk\n",
    "import gensim"
   ]
  },
  {
   "cell_type": "code",
   "execution_count": 83,
   "metadata": {},
   "outputs": [],
   "source": [
    "gensim_summary = gensim.summarization.summarize(ParaSen)"
   ]
  },
  {
   "cell_type": "code",
   "execution_count": 84,
   "metadata": {},
   "outputs": [
    {
     "name": "stdout",
     "output_type": "stream",
     "text": [
      "?The Variety of Products Needed: A customer may place a high premium on the availability of all parts of an emergency repair order from a single supplier.\n"
     ]
    }
   ],
   "source": [
    "print(gensim_summary)"
   ]
  },
  {
   "cell_type": "markdown",
   "metadata": {},
   "source": [
    "## Centroid-based summarization\n",
    "- 有用embedding"
   ]
  },
  {
   "cell_type": "code",
   "execution_count": 58,
   "metadata": {},
   "outputs": [],
   "source": [
    "import nltk\n",
    "import text_summarizer"
   ]
  },
  {
   "cell_type": "code",
   "execution_count": 67,
   "metadata": {},
   "outputs": [
    {
     "name": "stdout",
     "output_type": "stream",
     "text": [
      "showing info https://raw.githubusercontent.com/nltk/nltk_data/gh-pages/index.xml\n"
     ]
    },
    {
     "data": {
      "text/plain": [
       "True"
      ]
     },
     "execution_count": 67,
     "metadata": {},
     "output_type": "execute_result"
    }
   ],
   "source": [
    "import nltk\n",
    "import ssl\n",
    "\n",
    "try:\n",
    "    _create_unverified_https_context = ssl._create_unverified_context\n",
    "except AttributeError:\n",
    "    pass\n",
    "else:\n",
    "    ssl._create_default_https_context = _create_unverified_https_context\n",
    "\n",
    "nltk.download()"
   ]
  },
  {
   "cell_type": "code",
   "execution_count": 68,
   "metadata": {},
   "outputs": [
    {
     "name": "stderr",
     "output_type": "stream",
     "text": [
      "[nltk_data] Downloading package punkt to /Users/chenyifan/nltk_data...\n",
      "[nltk_data]   Package punkt is already up-to-date!\n",
      "[nltk_data] Downloading package stopwords to\n",
      "[nltk_data]     /Users/chenyifan/nltk_data...\n",
      "[nltk_data]   Package stopwords is already up-to-date!\n"
     ]
    },
    {
     "data": {
      "text/plain": [
       "True"
      ]
     },
     "execution_count": 68,
     "metadata": {},
     "output_type": "execute_result"
    }
   ],
   "source": [
    "nltk.download('punkt')\n",
    "nltk.download('stopwords')"
   ]
  },
  {
   "cell_type": "code",
   "execution_count": 89,
   "metadata": {},
   "outputs": [],
   "source": [
    "# we'll need embedding model from gensim for summarizer\n",
    "# this can take a while\n",
    "embedding_model = text_summarizer.centroid_word_embeddings.load_gensim_embedding_model('glove-wiki-gigaword-50')\n",
    "\n",
    "centroid_word_embedding_summarizer = text_summarizer.CentroidWordEmbeddingsSummarizer(embedding_model, preprocess_type='nltk')\n",
    "\n",
    "centroid_word_embedding_summary = centroid_word_embedding_summarizer.summarize(ParaSen)"
   ]
  },
  {
   "cell_type": "code",
   "execution_count": 90,
   "metadata": {},
   "outputs": [
    {
     "data": {
      "text/plain": [
       "'?The Response Time That Customers Are Willing to Tolerate: The tolerable response time for the emergency order is likely to be short, whereas the allowable response time for the construction order is apt to be long.'"
      ]
     },
     "execution_count": 90,
     "metadata": {},
     "output_type": "execute_result"
    }
   ],
   "source": [
    "centroid_word_embedding_summary"
   ]
  },
  {
   "cell_type": "markdown",
   "metadata": {},
   "source": [
    "## 另一種textrank\n",
    "1. https://github.com/summanlp/textrank  \n",
    "2. https://github.com/lambdaofgod/examples-counterexamples/blob/578adbb59defb049305a0cddc127877934122c42/notebooks/text_mining/CNN-Dailymail%20Extractive%20Summarization.ipynb"
   ]
  },
  {
   "cell_type": "code",
   "execution_count": 93,
   "metadata": {},
   "outputs": [],
   "source": [
    "import summa\n",
    "def target_summary_length(text, summary_length_ratio=0.2):\n",
    "    return int(len(text.split()) * summary_length_ratio)\n",
    "summary = summa.summarizer.summarize(ParaSen, words=target_summary_length(ParaSen))"
   ]
  },
  {
   "cell_type": "code",
   "execution_count": 94,
   "metadata": {},
   "outputs": [
    {
     "name": "stdout",
     "output_type": "stream",
     "text": [
      "?The Variety of Products Needed: A customer may place a high premium on the availability of all parts of an emergency repair order from a single supplier.\n",
      "?The Price of the Product: The customer placing the emergency order is apt to be much less sensitive to price than the customer placing the construction order.\n"
     ]
    }
   ],
   "source": [
    "print(summary)"
   ]
  },
  {
   "cell_type": "code",
   "execution_count": 88,
   "metadata": {},
   "outputs": [
    {
     "name": "stdout",
     "output_type": "stream",
     "text": [
      "?The Price of the Product: The customer placing the emergency order is apt to be much less sensitive to price than the customer placing the construction order.\n"
     ]
    }
   ],
   "source": [
    "from summa import summarizer\n",
    "print(summarizer.summarize(ParaSen))"
   ]
  },
  {
   "cell_type": "code",
   "execution_count": null,
   "metadata": {},
   "outputs": [],
   "source": []
  }
 ],
 "metadata": {
  "kernelspec": {
   "display_name": "Python 3",
   "language": "python",
   "name": "python3"
  },
  "language_info": {
   "codemirror_mode": {
    "name": "ipython",
    "version": 3
   },
   "file_extension": ".py",
   "mimetype": "text/x-python",
   "name": "python",
   "nbconvert_exporter": "python",
   "pygments_lexer": "ipython3",
   "version": "3.7.0b2"
  }
 },
 "nbformat": 4,
 "nbformat_minor": 2
}
