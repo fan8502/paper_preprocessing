{
 "cells": [
  {
   "cell_type": "code",
   "execution_count": 2,
   "metadata": {},
   "outputs": [],
   "source": [
    "import TSF2"
   ]
  },
  {
   "cell_type": "code",
   "execution_count": 3,
   "metadata": {},
   "outputs": [],
   "source": [
    "with open ('Chapter2_after.txt', 'r', encoding = 'UTF-8') as inFile:\n",
    "    seg = inFile.readlines()\n",
    "seg = [s.replace('\\n', '').strip() for s in seg]"
   ]
  },
  {
   "cell_type": "code",
   "execution_count": 4,
   "metadata": {},
   "outputs": [],
   "source": [
    "del(seg[0]) #刪除課本第一句(標題無用)"
   ]
  },
  {
   "cell_type": "code",
   "execution_count": 5,
   "metadata": {},
   "outputs": [
    {
     "data": {
      "text/plain": [
       "[\"Explain why achieving strategic fit is critical to a company's overall success.\",\n",
       " 'Describe how a company achieves strategic fit between its supply chain strategy and its competitive strategy.',\n",
       " 'Discuss the importance of expanding the scope of strategic fit across the supply chain.']"
      ]
     },
     "execution_count": 5,
     "metadata": {},
     "output_type": "execute_result"
    }
   ],
   "source": [
    "len(seg)\n",
    "seg[:3]"
   ]
  },
  {
   "cell_type": "code",
   "execution_count": 6,
   "metadata": {},
   "outputs": [
    {
     "name": "stdout",
     "output_type": "stream",
     "text": [
      "Avg = 0.3417123267714496\n",
      "Dev = 0.258436783288032\n"
     ]
    }
   ],
   "source": [
    "# 參數設定之參考論文\n",
    "# Improving Text Segmentation with Clustering Cohesion\n",
    "# Efficient linear text segmentation based on information retrieval techniques\n",
    "\n",
    "K = 8 # the number of sentences in a block\n",
    "THRESHOLD_DISSIM = 0.7 #根據Kern and Granitzer (2009)的建議訂為0.7。\n",
    "ParaSenList = TSF2.SegementPara(seg, K, THRESHOLD_DISSIM)"
   ]
  },
  {
   "cell_type": "code",
   "execution_count": 7,
   "metadata": {},
   "outputs": [
    {
     "name": "stdout",
     "output_type": "stream",
     "text": [
      "8\n",
      "60\n",
      "36\n",
      "1\n",
      "6\n",
      "9\n",
      "2\n",
      "1\n",
      "2\n",
      "59\n",
      "13\n",
      "1\n",
      "23\n",
      "12\n",
      "19\n",
      "1\n",
      "1\n",
      "32\n",
      "14\n",
      "19\n",
      "15\n",
      "8\n",
      "63\n",
      "1\n",
      "1\n",
      "11\n",
      "1\n",
      "61\n"
     ]
    }
   ],
   "source": [
    "for i in range(len(ParaSenList)):\n",
    "    print (len(ParaSenList[i]))"
   ]
  },
  {
   "cell_type": "code",
   "execution_count": 22,
   "metadata": {},
   "outputs": [
    {
     "data": {
      "text/plain": [
       "['The more capabilities constituting responsiveness a supply chain has, the more responsive it is.',\n",
       " 'Seven-Eleven Japan replenishes its stores with breakfast items in the morning, lunch items in the afternoon, and dinner items at night.',\n",
       " 'As a result, the available product variety changes by time of day.',\n",
       " 'Seven-Eleven responds quickly to orders, with store managers placing replenishment orders less than 12 hours before they are supplied.',\n",
       " 'This practice makes the Seven-Eleven supply chain very responsive.',\n",
       " 'Another example of a responsive supply chain is W.W. Grainger.',\n",
       " 'The company faces both demand and supply uncertainty; therefore, the supply chain has been designed to deal effectively with both to provide customers with a wide variety of MRO products within 24 hours.',\n",
       " 'An efficient supply chain, in contrast, lowers cost by eliminating some of its responsive capabilities.',\n",
       " \"For example, Sam's Club sells a limited variety of products in large package sizes.\",\n",
       " 'The supply chain is capable of low costs, and the focus of this supply chain is clearly on efficiency.',\n",
       " 'Responsiveness High  Low High  Cost  Low  .',\n",
       " 'Highly efficient  Somewhat efficient  .',\n",
       " 'Somewhat responsive  Highly responsive  Integrated steel mills: Production scheduled weeks or months in advance with little variety or flexibility  Hanes apparel: A traditional make-tostock manufacturer with production lead time of several weeks  .',\n",
       " 'Most automotive production: Delivering a large variety of products in a couple of weeks  Seven-Eleven Japan: Changing merchandise mix by location and time of day  Key Point The second step in achieving strategic fit between competitive and supply chain strategies is to understand the supply chain and map it on the responsiveness spectrum.',\n",
       " 'STEP 3: ACHIEVING STRATEGIC FIT After mapping the level of implied uncertainty and understanding the supply chain position on the responsiveness spectrum, the third and final step is to ensure that the degree of supply chain responsiveness is consistent with the implied uncertainty.',\n",
       " 'The goal is to target high responsiveness for a supply chain facing high implied uncertainty, and efficiency for a supply chain facing low implied uncertainty.',\n",
       " 'For example, the competitive strategy of McMaster-Carr targets customers who value having a large variety of MRO products delivered to them within 24 hours.',\n",
       " 'Given the large variety of products and rapid desired delivery, demand from McMaster-Carr customers can be characterized as having high implied demand uncertainty.',\n",
       " 'McMaster-Carr has the option of designing an efficient or responsive supply chain.',\n",
       " 'An efficient supply chain may carry less inventory and maintain a level load on the warehouse to lower picking and packing costs.',\n",
       " \"If McMaster-Carr made these choices, it would have difficulty supporting the customer's desire for a wide variety of products that are delivered within 24 hours.\",\n",
       " 'To serve its customers effectively, McMaster-Carr carries a high level of inventory and picking and packing capacity.',\n",
       " 'Clearly, a responsive supply chain is better suited to meet the needs of customers targeted by McMaster-Carr even if it results in higher costs.']"
      ]
     },
     "execution_count": 22,
     "metadata": {},
     "output_type": "execute_result"
    }
   ],
   "source": [
    "ParaSenList[12]"
   ]
  },
  {
   "cell_type": "code",
   "execution_count": 24,
   "metadata": {},
   "outputs": [],
   "source": [
    "ParaSen = ' '.join(ParaSenList[12])"
   ]
  },
  {
   "cell_type": "code",
   "execution_count": 25,
   "metadata": {
    "scrolled": true
   },
   "outputs": [
    {
     "data": {
      "text/plain": [
       "\"The more capabilities constituting responsiveness a supply chain has, the more responsive it is. Seven-Eleven Japan replenishes its stores with breakfast items in the morning, lunch items in the afternoon, and dinner items at night. As a result, the available product variety changes by time of day. Seven-Eleven responds quickly to orders, with store managers placing replenishment orders less than 12 hours before they are supplied. This practice makes the Seven-Eleven supply chain very responsive. Another example of a responsive supply chain is W.W. Grainger. The company faces both demand and supply uncertainty; therefore, the supply chain has been designed to deal effectively with both to provide customers with a wide variety of MRO products within 24 hours. An efficient supply chain, in contrast, lowers cost by eliminating some of its responsive capabilities. For example, Sam's Club sells a limited variety of products in large package sizes. The supply chain is capable of low costs, and the focus of this supply chain is clearly on efficiency. Responsiveness High  Low High  Cost  Low  . Highly efficient  Somewhat efficient  . Somewhat responsive  Highly responsive  Integrated steel mills: Production scheduled weeks or months in advance with little variety or flexibility  Hanes apparel: A traditional make-tostock manufacturer with production lead time of several weeks  . Most automotive production: Delivering a large variety of products in a couple of weeks  Seven-Eleven Japan: Changing merchandise mix by location and time of day  Key Point The second step in achieving strategic fit between competitive and supply chain strategies is to understand the supply chain and map it on the responsiveness spectrum. STEP 3: ACHIEVING STRATEGIC FIT After mapping the level of implied uncertainty and understanding the supply chain position on the responsiveness spectrum, the third and final step is to ensure that the degree of supply chain responsiveness is consistent with the implied uncertainty. The goal is to target high responsiveness for a supply chain facing high implied uncertainty, and efficiency for a supply chain facing low implied uncertainty. For example, the competitive strategy of McMaster-Carr targets customers who value having a large variety of MRO products delivered to them within 24 hours. Given the large variety of products and rapid desired delivery, demand from McMaster-Carr customers can be characterized as having high implied demand uncertainty. McMaster-Carr has the option of designing an efficient or responsive supply chain. An efficient supply chain may carry less inventory and maintain a level load on the warehouse to lower picking and packing costs. If McMaster-Carr made these choices, it would have difficulty supporting the customer's desire for a wide variety of products that are delivered within 24 hours. To serve its customers effectively, McMaster-Carr carries a high level of inventory and picking and packing capacity. Clearly, a responsive supply chain is better suited to meet the needs of customers targeted by McMaster-Carr even if it results in higher costs.\""
      ]
     },
     "execution_count": 25,
     "metadata": {},
     "output_type": "execute_result"
    }
   ],
   "source": [
    "ParaSen"
   ]
  },
  {
   "cell_type": "markdown",
   "metadata": {},
   "source": [
    "## gensim內建的textrank"
   ]
  },
  {
   "cell_type": "code",
   "execution_count": 37,
   "metadata": {},
   "outputs": [],
   "source": [
    "import nltk\n",
    "import gensim"
   ]
  },
  {
   "cell_type": "code",
   "execution_count": 27,
   "metadata": {},
   "outputs": [],
   "source": [
    "gensim_summary = gensim.summarization.summarize(ParaSen)"
   ]
  },
  {
   "cell_type": "code",
   "execution_count": 28,
   "metadata": {},
   "outputs": [
    {
     "name": "stdout",
     "output_type": "stream",
     "text": [
      "The company faces both demand and supply uncertainty; therefore, the supply chain has been designed to deal effectively with both to provide customers with a wide variety of MRO products within 24 hours.\n",
      "Most automotive production: Delivering a large variety of products in a couple of weeks  Seven-Eleven Japan: Changing merchandise mix by location and time of day  Key Point The second step in achieving strategic fit between competitive and supply chain strategies is to understand the supply chain and map it on the responsiveness spectrum.\n",
      "For example, the competitive strategy of McMaster-Carr targets customers who value having a large variety of MRO products delivered to them within 24 hours.\n",
      "Clearly, a responsive supply chain is better suited to meet the needs of customers targeted by McMaster-Carr even if it results in higher costs.\n"
     ]
    }
   ],
   "source": [
    "print(gensim_summary)"
   ]
  },
  {
   "cell_type": "markdown",
   "metadata": {},
   "source": [
    "## Centroid-based summarization\n",
    "- 有用embedding"
   ]
  },
  {
   "cell_type": "code",
   "execution_count": 29,
   "metadata": {},
   "outputs": [],
   "source": [
    "import nltk\n",
    "import text_summarizer"
   ]
  },
  {
   "cell_type": "code",
   "execution_count": 30,
   "metadata": {},
   "outputs": [
    {
     "name": "stdout",
     "output_type": "stream",
     "text": [
      "showing info https://raw.githubusercontent.com/nltk/nltk_data/gh-pages/index.xml\n"
     ]
    },
    {
     "data": {
      "text/plain": [
       "True"
      ]
     },
     "execution_count": 30,
     "metadata": {},
     "output_type": "execute_result"
    }
   ],
   "source": [
    "import nltk\n",
    "import ssl\n",
    "\n",
    "try:\n",
    "    _create_unverified_https_context = ssl._create_unverified_context\n",
    "except AttributeError:\n",
    "    pass\n",
    "else:\n",
    "    ssl._create_default_https_context = _create_unverified_https_context\n",
    "\n",
    "nltk.download()"
   ]
  },
  {
   "cell_type": "code",
   "execution_count": 31,
   "metadata": {},
   "outputs": [
    {
     "name": "stderr",
     "output_type": "stream",
     "text": [
      "[nltk_data] Downloading package punkt to /Users/chenyifan/nltk_data...\n",
      "[nltk_data]   Package punkt is already up-to-date!\n",
      "[nltk_data] Downloading package stopwords to\n",
      "[nltk_data]     /Users/chenyifan/nltk_data...\n",
      "[nltk_data]   Package stopwords is already up-to-date!\n"
     ]
    },
    {
     "data": {
      "text/plain": [
       "True"
      ]
     },
     "execution_count": 31,
     "metadata": {},
     "output_type": "execute_result"
    }
   ],
   "source": [
    "nltk.download('punkt')\n",
    "nltk.download('stopwords')"
   ]
  },
  {
   "cell_type": "code",
   "execution_count": 32,
   "metadata": {},
   "outputs": [],
   "source": [
    "# we'll need embedding model from gensim for summarizer\n",
    "# this can take a while\n",
    "embedding_model = text_summarizer.centroid_word_embeddings.load_gensim_embedding_model('glove-wiki-gigaword-50')\n",
    "\n",
    "centroid_word_embedding_summarizer = text_summarizer.CentroidWordEmbeddingsSummarizer(embedding_model, preprocess_type='nltk')\n",
    "\n",
    "centroid_word_embedding_summary = centroid_word_embedding_summarizer.summarize(ParaSen)"
   ]
  },
  {
   "cell_type": "code",
   "execution_count": 33,
   "metadata": {},
   "outputs": [
    {
     "name": "stdout",
     "output_type": "stream",
     "text": [
      "Seven-Eleven Japan replenishes its stores with breakfast items in the morning, lunch items in the afternoon, and dinner items at night.\n",
      "Another example of a responsive supply chain is W.W. Grainger.\n",
      "Responsiveness High  Low High  Cost  Low  .\n",
      "Highly efficient  Somewhat efficient  .\n",
      "Given the large variety of products and rapid desired delivery, demand from McMaster-Carr customers can be characterized as having high implied demand uncertainty.\n"
     ]
    }
   ],
   "source": [
    "print(centroid_word_embedding_summary)"
   ]
  },
  {
   "cell_type": "markdown",
   "metadata": {},
   "source": [
    "## 另一種textrank\n",
    "1. https://github.com/summanlp/textrank  \n",
    "2. https://github.com/lambdaofgod/examples-counterexamples/blob/578adbb59defb049305a0cddc127877934122c42/notebooks/text_mining/CNN-Dailymail%20Extractive%20Summarization.ipynb"
   ]
  },
  {
   "cell_type": "code",
   "execution_count": 34,
   "metadata": {},
   "outputs": [],
   "source": [
    "import summa\n",
    "def target_summary_length(text, summary_length_ratio=0.2):\n",
    "    return int(len(text.split()) * summary_length_ratio)\n",
    "summary = summa.summarizer.summarize(ParaSen, words=target_summary_length(ParaSen))"
   ]
  },
  {
   "cell_type": "code",
   "execution_count": 35,
   "metadata": {},
   "outputs": [
    {
     "name": "stdout",
     "output_type": "stream",
     "text": [
      "Most automotive production: Delivering a large variety of products in a couple of weeks  Seven-Eleven Japan: Changing merchandise mix by location and time of day  Key Point The second step in achieving strategic fit between competitive and supply chain strategies is to understand the supply chain and map it on the responsiveness spectrum.\n",
      "McMaster-Carr has the option of designing an efficient or responsive supply chain.\n",
      "Clearly, a responsive supply chain is better suited to meet the needs of customers targeted by McMaster-Carr even if it results in higher costs.\n"
     ]
    }
   ],
   "source": [
    "print(summary)"
   ]
  },
  {
   "cell_type": "code",
   "execution_count": 36,
   "metadata": {},
   "outputs": [
    {
     "name": "stdout",
     "output_type": "stream",
     "text": [
      "The company faces both demand and supply uncertainty; therefore, the supply chain has been designed to deal effectively with both to provide customers with a wide variety of MRO products within 24 hours.\n",
      "Most automotive production: Delivering a large variety of products in a couple of weeks  Seven-Eleven Japan: Changing merchandise mix by location and time of day  Key Point The second step in achieving strategic fit between competitive and supply chain strategies is to understand the supply chain and map it on the responsiveness spectrum.\n",
      "McMaster-Carr has the option of designing an efficient or responsive supply chain.\n",
      "Clearly, a responsive supply chain is better suited to meet the needs of customers targeted by McMaster-Carr even if it results in higher costs.\n"
     ]
    }
   ],
   "source": [
    "from summa import summarizer\n",
    "print(summarizer.summarize(ParaSen))"
   ]
  },
  {
   "cell_type": "code",
   "execution_count": null,
   "metadata": {},
   "outputs": [],
   "source": []
  }
 ],
 "metadata": {
  "kernelspec": {
   "display_name": "Python 3",
   "language": "python",
   "name": "python3"
  },
  "language_info": {
   "codemirror_mode": {
    "name": "ipython",
    "version": 3
   },
   "file_extension": ".py",
   "mimetype": "text/x-python",
   "name": "python",
   "nbconvert_exporter": "python",
   "pygments_lexer": "ipython3",
   "version": "3.7.0b2"
  }
 },
 "nbformat": 4,
 "nbformat_minor": 2
}
